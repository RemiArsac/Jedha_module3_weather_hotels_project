{
 "cells": [
  {
   "cell_type": "code",
   "execution_count": 2,
   "metadata": {},
   "outputs": [
    {
     "name": "stdout",
     "output_type": "stream",
     "text": [
      "Requirement already satisfied: beautifulsoup4 in /opt/conda/lib/python3.8/site-packages (4.9.3)\n",
      "Requirement already satisfied: soupsieve>1.2; python_version >= \"3.0\" in /opt/conda/lib/python3.8/site-packages (from beautifulsoup4) (2.0.1)\n"
     ]
    }
   ],
   "source": [
    "!pip install beautifulsoup4"
   ]
  },
  {
   "cell_type": "code",
   "execution_count": 1,
   "metadata": {},
   "outputs": [],
   "source": [
    "import os \n",
    "import logging"
   ]
  },
  {
   "cell_type": "code",
   "execution_count": 10,
   "metadata": {},
   "outputs": [],
   "source": [
    "from bs4 import BeautifulSoup\n",
    "import requests"
   ]
  },
  {
   "cell_type": "code",
   "execution_count": 5,
   "metadata": {},
   "outputs": [],
   "source": [
    "cities =[\"Mont-Saint-Michel\",\n",
    "\"St Malo\",\n",
    "\"Bayeux\",\n",
    "\"Le Havre\",\n",
    "\"Rouen\",\n",
    "\"Paris\",\n",
    "\"Amiens\",\n",
    "\"Lille\",\n",
    "\"Strasbourg\",\n",
    "\"Chateau du Haut Koenigsbourg\",\n",
    "\"Colmar\",\n",
    "\"Eguisheim\",\n",
    "\"Besancon\",\n",
    "\"Dijon\",\n",
    "\"Annecy\",\n",
    "\"Grenoble\",\n",
    "\"Lyon\",\n",
    "\"Gorges du Verdon\",\n",
    "\"Bormes les Mimosas\",\n",
    "\"Cassis\",\n",
    "\"Marseille\",\n",
    "\"Aix en Provence\",\n",
    "\"Avignon\",\n",
    "\"Uzes\",\n",
    "\"Nimes\",\n",
    "\"Aigues Mortes\",\n",
    "\"Saintes Maries de la mer\",\n",
    "\"Collioure\",\n",
    "\"Carcassonne\",\n",
    "\"Ariege\",\n",
    "\"Toulouse\",\n",
    "\"Montauban\",\n",
    "\"Biarritz\",\n",
    "\"Bayonne\",\n",
    "\"La Rochelle\"]"
   ]
  },
  {
   "cell_type": "markdown",
   "metadata": {},
   "source": [
    "create an empty dataframe"
   ]
  },
  {
   "cell_type": "code",
   "execution_count": 2,
   "metadata": {},
   "outputs": [
    {
     "data": {
      "text/html": [
       "<div>\n",
       "<style scoped>\n",
       "    .dataframe tbody tr th:only-of-type {\n",
       "        vertical-align: middle;\n",
       "    }\n",
       "\n",
       "    .dataframe tbody tr th {\n",
       "        vertical-align: top;\n",
       "    }\n",
       "\n",
       "    .dataframe thead th {\n",
       "        text-align: right;\n",
       "    }\n",
       "</style>\n",
       "<table border=\"1\" class=\"dataframe\">\n",
       "  <thead>\n",
       "    <tr style=\"text-align: right;\">\n",
       "      <th></th>\n",
       "      <th>name</th>\n",
       "      <th>url</th>\n",
       "      <th>coord</th>\n",
       "      <th>score</th>\n",
       "      <th>description</th>\n",
       "    </tr>\n",
       "  </thead>\n",
       "  <tbody>\n",
       "  </tbody>\n",
       "</table>\n",
       "</div>"
      ],
      "text/plain": [
       "Empty DataFrame\n",
       "Columns: [name, url, coord, score, description]\n",
       "Index: []"
      ]
     },
     "execution_count": 2,
     "metadata": {},
     "output_type": "execute_result"
    }
   ],
   "source": [
    "import pandas as pd\n",
    "df = pd.DataFrame(columns = ['name', 'url', 'coord', 'score', 'description'])\n",
    "df"
   ]
  },
  {
   "cell_type": "code",
   "execution_count": 3,
   "metadata": {},
   "outputs": [],
   "source": [
    "from tqdm import tqdm\n",
    "import datetime as dt"
   ]
  },
  {
   "cell_type": "markdown",
   "metadata": {},
   "source": [
    "Getting the dataframe of cities with weather"
   ]
  },
  {
   "cell_type": "code",
   "execution_count": 4,
   "metadata": {},
   "outputs": [],
   "source": [
    "df_avg_day_temp=pd.read_csv('cities_avg_day_temperature_desc.csv')"
   ]
  },
  {
   "cell_type": "code",
   "execution_count": 5,
   "metadata": {},
   "outputs": [
    {
     "data": {
      "text/html": [
       "<div>\n",
       "<style scoped>\n",
       "    .dataframe tbody tr th:only-of-type {\n",
       "        vertical-align: middle;\n",
       "    }\n",
       "\n",
       "    .dataframe tbody tr th {\n",
       "        vertical-align: top;\n",
       "    }\n",
       "\n",
       "    .dataframe thead th {\n",
       "        text-align: right;\n",
       "    }\n",
       "</style>\n",
       "<table border=\"1\" class=\"dataframe\">\n",
       "  <thead>\n",
       "    <tr style=\"text-align: right;\">\n",
       "      <th></th>\n",
       "      <th>Id</th>\n",
       "      <th>City</th>\n",
       "      <th>lat</th>\n",
       "      <th>lon</th>\n",
       "      <th>avg_day_temperature</th>\n",
       "      <th>avg_rain_probability</th>\n",
       "    </tr>\n",
       "  </thead>\n",
       "  <tbody>\n",
       "    <tr>\n",
       "      <th>0</th>\n",
       "      <td>28</td>\n",
       "      <td>Collioure</td>\n",
       "      <td>42.525050</td>\n",
       "      <td>3.083155</td>\n",
       "      <td>10.89500</td>\n",
       "      <td>0.37625</td>\n",
       "    </tr>\n",
       "    <tr>\n",
       "      <th>1</th>\n",
       "      <td>34</td>\n",
       "      <td>Bayonne</td>\n",
       "      <td>43.493338</td>\n",
       "      <td>-1.475099</td>\n",
       "      <td>9.80375</td>\n",
       "      <td>0.85875</td>\n",
       "    </tr>\n",
       "    <tr>\n",
       "      <th>2</th>\n",
       "      <td>33</td>\n",
       "      <td>Biarritz</td>\n",
       "      <td>43.471144</td>\n",
       "      <td>-1.552727</td>\n",
       "      <td>9.58875</td>\n",
       "      <td>0.86875</td>\n",
       "    </tr>\n",
       "    <tr>\n",
       "      <th>3</th>\n",
       "      <td>26</td>\n",
       "      <td>Aigues-Mortes</td>\n",
       "      <td>43.565822</td>\n",
       "      <td>4.191284</td>\n",
       "      <td>9.24875</td>\n",
       "      <td>0.32500</td>\n",
       "    </tr>\n",
       "    <tr>\n",
       "      <th>4</th>\n",
       "      <td>27</td>\n",
       "      <td>Saintes-Maries-de-la-Mer</td>\n",
       "      <td>43.452277</td>\n",
       "      <td>4.428717</td>\n",
       "      <td>9.17125</td>\n",
       "      <td>0.30250</td>\n",
       "    </tr>\n",
       "  </tbody>\n",
       "</table>\n",
       "</div>"
      ],
      "text/plain": [
       "   Id                      City        lat       lon  avg_day_temperature  \\\n",
       "0  28                 Collioure  42.525050  3.083155             10.89500   \n",
       "1  34                   Bayonne  43.493338 -1.475099              9.80375   \n",
       "2  33                  Biarritz  43.471144 -1.552727              9.58875   \n",
       "3  26             Aigues-Mortes  43.565822  4.191284              9.24875   \n",
       "4  27  Saintes-Maries-de-la-Mer  43.452277  4.428717              9.17125   \n",
       "\n",
       "   avg_rain_probability  \n",
       "0               0.37625  \n",
       "1               0.85875  \n",
       "2               0.86875  \n",
       "3               0.32500  \n",
       "4               0.30250  "
      ]
     },
     "execution_count": 5,
     "metadata": {},
     "output_type": "execute_result"
    }
   ],
   "source": [
    "df_avg_day_temp.head()"
   ]
  },
  {
   "cell_type": "code",
   "execution_count": 6,
   "metadata": {},
   "outputs": [],
   "source": [
    "df_best_cities=df_avg_day_temp.loc[:4]"
   ]
  },
  {
   "cell_type": "markdown",
   "metadata": {},
   "source": [
    "Keeping the five hotest cities"
   ]
  },
  {
   "cell_type": "code",
   "execution_count": 7,
   "metadata": {},
   "outputs": [
    {
     "data": {
      "text/html": [
       "<div>\n",
       "<style scoped>\n",
       "    .dataframe tbody tr th:only-of-type {\n",
       "        vertical-align: middle;\n",
       "    }\n",
       "\n",
       "    .dataframe tbody tr th {\n",
       "        vertical-align: top;\n",
       "    }\n",
       "\n",
       "    .dataframe thead th {\n",
       "        text-align: right;\n",
       "    }\n",
       "</style>\n",
       "<table border=\"1\" class=\"dataframe\">\n",
       "  <thead>\n",
       "    <tr style=\"text-align: right;\">\n",
       "      <th></th>\n",
       "      <th>Id</th>\n",
       "      <th>City</th>\n",
       "      <th>lat</th>\n",
       "      <th>lon</th>\n",
       "      <th>avg_day_temperature</th>\n",
       "      <th>avg_rain_probability</th>\n",
       "    </tr>\n",
       "  </thead>\n",
       "  <tbody>\n",
       "    <tr>\n",
       "      <th>0</th>\n",
       "      <td>28</td>\n",
       "      <td>Collioure</td>\n",
       "      <td>42.525050</td>\n",
       "      <td>3.083155</td>\n",
       "      <td>10.89500</td>\n",
       "      <td>0.37625</td>\n",
       "    </tr>\n",
       "    <tr>\n",
       "      <th>1</th>\n",
       "      <td>34</td>\n",
       "      <td>Bayonne</td>\n",
       "      <td>43.493338</td>\n",
       "      <td>-1.475099</td>\n",
       "      <td>9.80375</td>\n",
       "      <td>0.85875</td>\n",
       "    </tr>\n",
       "    <tr>\n",
       "      <th>2</th>\n",
       "      <td>33</td>\n",
       "      <td>Biarritz</td>\n",
       "      <td>43.471144</td>\n",
       "      <td>-1.552727</td>\n",
       "      <td>9.58875</td>\n",
       "      <td>0.86875</td>\n",
       "    </tr>\n",
       "    <tr>\n",
       "      <th>3</th>\n",
       "      <td>26</td>\n",
       "      <td>Aigues-Mortes</td>\n",
       "      <td>43.565822</td>\n",
       "      <td>4.191284</td>\n",
       "      <td>9.24875</td>\n",
       "      <td>0.32500</td>\n",
       "    </tr>\n",
       "    <tr>\n",
       "      <th>4</th>\n",
       "      <td>27</td>\n",
       "      <td>Saintes-Maries-de-la-Mer</td>\n",
       "      <td>43.452277</td>\n",
       "      <td>4.428717</td>\n",
       "      <td>9.17125</td>\n",
       "      <td>0.30250</td>\n",
       "    </tr>\n",
       "  </tbody>\n",
       "</table>\n",
       "</div>"
      ],
      "text/plain": [
       "   Id                      City        lat       lon  avg_day_temperature  \\\n",
       "0  28                 Collioure  42.525050  3.083155             10.89500   \n",
       "1  34                   Bayonne  43.493338 -1.475099              9.80375   \n",
       "2  33                  Biarritz  43.471144 -1.552727              9.58875   \n",
       "3  26             Aigues-Mortes  43.565822  4.191284              9.24875   \n",
       "4  27  Saintes-Maries-de-la-Mer  43.452277  4.428717              9.17125   \n",
       "\n",
       "   avg_rain_probability  \n",
       "0               0.37625  \n",
       "1               0.85875  \n",
       "2               0.86875  \n",
       "3               0.32500  \n",
       "4               0.30250  "
      ]
     },
     "execution_count": 7,
     "metadata": {},
     "output_type": "execute_result"
    }
   ],
   "source": [
    "df_best_cities"
   ]
  },
  {
   "cell_type": "code",
   "execution_count": 8,
   "metadata": {},
   "outputs": [],
   "source": [
    "list_cities=['https://www.booking.com/searchresults.fr.html?label=gen173nr-1DCAEoggI46AdIDVgEaE2IAQGYAQ24ARfIAQzYAQPoAQH4AQKIAgGoAgO4AtnvuI0GwAIB0gIkNWQ2YzQ2NWEtMTY2Ny00NDhjLWIxZDAtYzU4NmZjMzg3NmVi2AIE4AIB&sid=2d385a5c8721c18a0aca0b4388353818&sb=1&sb_lp=1&src=index&src_elem=sb&error_url=https%3A%2F%2Fwww.booking.com%2Findex.fr.html%3Flabel%3Dgen173nr-1DCAEoggI46AdIDVgEaE2IAQGYAQ24ARfIAQzYAQPoAQH4AQKIAgGoAgO4AtnvuI0GwAIB0gIkNWQ2YzQ2NWEtMTY2Ny00NDhjLWIxZDAtYzU4NmZjMzg3NmVi2AIE4AIB%3Bsid%3D2d385a5c8721c18a0aca0b4388353818%3Bsb_price_type%3Dtotal%26%3B&ss=Collioure%2C+Languedoc-Roussillon%2C+France&is_ski_area=&checkin_year=&checkin_month=&checkout_year=&checkout_month=&group_adults=2&group_children=0&no_rooms=1&b_h4u_keep_filters=&from_sf=1&ss_raw=Collioure&ac_position=0&ac_langcode=fr&ac_click_type=b&dest_id=-1421032&dest_type=city&place_id_lat=42.52453&place_id_lon=3.082255&search_pageview_id=d2b272ac4597021e&search_selected=true&search_pageview_id=d2b272ac4597021e&ac_suggestion_list_length=5&ac_suggestion_theme_list_length=0',\n",
    "            'https://www.booking.com/searchresults.fr.html?label=gen173nr-1DCAEoggI46AdIDVgEaE2IAQGYAQ24ARfIAQzYAQPoAQH4AQKIAgGoAgO4AtnvuI0GwAIB0gIkNWQ2YzQ2NWEtMTY2Ny00NDhjLWIxZDAtYzU4NmZjMzg3NmVi2AIE4AIB&sid=2d385a5c8721c18a0aca0b4388353818&sb=1&sb_lp=1&src=index&src_elem=sb&error_url=https%3A%2F%2Fwww.booking.com%2Findex.fr.html%3Flabel%3Dgen173nr-1DCAEoggI46AdIDVgEaE2IAQGYAQ24ARfIAQzYAQPoAQH4AQKIAgGoAgO4AtnvuI0GwAIB0gIkNWQ2YzQ2NWEtMTY2Ny00NDhjLWIxZDAtYzU4NmZjMzg3NmVi2AIE4AIB%3Bsid%3D2d385a5c8721c18a0aca0b4388353818%3Bsb_price_type%3Dtotal%26%3B&ss=Bayonne%2C+Aquitaine%2C+France&is_ski_area=&checkin_year=&checkin_month=&checkout_year=&checkout_month=&group_adults=2&group_children=0&no_rooms=1&b_h4u_keep_filters=&from_sf=1&ss_raw=Bayonne&ac_position=0&ac_langcode=fr&ac_click_type=b&dest_id=-1410844&dest_type=city&place_id_lat=43.49334&place_id_lon=-1.4751&search_pageview_id=d2b272ac4597021e&search_selected=true&search_pageview_id=d2b272ac4597021e&ac_suggestion_list_length=5&ac_suggestion_theme_list_length=0',\n",
    "            'https://www.booking.com/searchresults.fr.html?label=gen173nr-1DCAEoggI46AdIDVgEaE2IAQGYAQ24ARfIAQzYAQPoAQH4AQKIAgGoAgO4AtnvuI0GwAIB0gIkNWQ2YzQ2NWEtMTY2Ny00NDhjLWIxZDAtYzU4NmZjMzg3NmVi2AIE4AIB&sid=2d385a5c8721c18a0aca0b4388353818&sb=1&sb_lp=1&src=index&src_elem=sb&error_url=https%3A%2F%2Fwww.booking.com%2Findex.fr.html%3Flabel%3Dgen173nr-1DCAEoggI46AdIDVgEaE2IAQGYAQ24ARfIAQzYAQPoAQH4AQKIAgGoAgO4AtnvuI0GwAIB0gIkNWQ2YzQ2NWEtMTY2Ny00NDhjLWIxZDAtYzU4NmZjMzg3NmVi2AIE4AIB%3Bsid%3D2d385a5c8721c18a0aca0b4388353818%3Bsb_price_type%3Dtotal%26%3B&ss=Biarritz%2C+Aquitaine%2C+France&is_ski_area=&checkin_year=&checkin_month=&checkout_year=&checkout_month=&group_adults=2&group_children=0&no_rooms=1&b_h4u_keep_filters=&from_sf=1&ss_raw=Biarritz&ac_position=0&ac_langcode=fr&ac_click_type=b&dest_id=-1412526&dest_type=city&iata=BIQ&place_id_lat=43.4804&place_id_lon=-1.56066&search_pageview_id=d2b272ac4597021e&search_selected=true&search_pageview_id=d2b272ac4597021e&ac_suggestion_list_length=5&ac_suggestion_theme_list_length=0',\n",
    "            'https://www.booking.com/searchresults.fr.html?label=gen173nr-1DCAEoggI46AdIDVgEaE2IAQGYAQ24ARfIAQzYAQPoAQH4AQKIAgGoAgO4AtnvuI0GwAIB0gIkNWQ2YzQ2NWEtMTY2Ny00NDhjLWIxZDAtYzU4NmZjMzg3NmVi2AIE4AIB&sid=2d385a5c8721c18a0aca0b4388353818&sb=1&sb_lp=1&src=index&src_elem=sb&error_url=https%3A%2F%2Fwww.booking.com%2Findex.fr.html%3Flabel%3Dgen173nr-1DCAEoggI46AdIDVgEaE2IAQGYAQ24ARfIAQzYAQPoAQH4AQKIAgGoAgO4AtnvuI0GwAIB0gIkNWQ2YzQ2NWEtMTY2Ny00NDhjLWIxZDAtYzU4NmZjMzg3NmVi2AIE4AIB%3Bsid%3D2d385a5c8721c18a0aca0b4388353818%3Bsb_price_type%3Dtotal%26%3B&ss=Aigues-Mortes%2C+Languedoc-Roussillon%2C+France&is_ski_area=&checkin_year=&checkin_month=&checkout_year=&checkout_month=&group_adults=2&group_children=0&no_rooms=1&b_h4u_keep_filters=&from_sf=1&ss_raw=Aigues-Mortes&ac_position=0&ac_langcode=fr&ac_click_type=b&dest_id=-1406800&dest_type=city&place_id_lat=43.566887&place_id_lon=4.190193&search_pageview_id=d2b272ac4597021e&search_selected=true&search_pageview_id=d2b272ac4597021e&ac_suggestion_list_length=5&ac_suggestion_theme_list_length=0',\n",
    "            'https://www.booking.com/searchresults.fr.html?label=gen173nr-1DCAEoggI46AdIDVgEaE2IAQGYAQ24ARfIAQzYAQPoAQH4AQKIAgGoAgO4AqHsuI0GwAIB0gIkZGUzM2QxODktMDdjNC00MWNmLWIxZTAtMzYzMWY0Zjc5MGZm2AIE4AIB&sid=2d385a5c8721c18a0aca0b4388353818&sb=1&src=searchresults&src_elem=sb&error_url=https%3A%2F%2Fwww.booking.com%2Fsearchresults.fr.html%3Flabel%3Dgen173nr-1DCAEoggI46AdIDVgEaE2IAQGYAQ24ARfIAQzYAQPoAQH4AQKIAgGoAgO4AqHsuI0GwAIB0gIkZGUzM2QxODktMDdjNC00MWNmLWIxZTAtMzYzMWY0Zjc5MGZm2AIE4AIB%3Bsid%3D2d385a5c8721c18a0aca0b4388353818%3Btmpl%3Dsearchresults%3Bclass_interval%3D1%3Bdtdisc%3D0%3Bfrom_sf%3D1%3Bgroup_adults%3D2%3Bgroup_children%3D0%3Binac%3D0%3Bindex_postcard%3D0%3Blabel_click%3Dundef%3Bno_rooms%3D1%3Boffset%3D0%3Bpostcard%3D0%3Broom1%3DA%252CA%3Bsb_price_type%3Dtotal%3Bsearch_pageview_id%3Dc77d71d0591c0128%3Bshw_aparth%3D1%3Bslp_r_match%3D0%3Bsrc%3Dindex%3Bsrc_elem%3Dsb%3Bsrpvid%3D3d767274da8b0267%3Bss%3DSaintes-Maries-de-la-Mer%3Bss_all%3D0%3Bssb%3Dempty%3Bsshis%3D0%3Btop_ufis%3D1%26%3B&ss=Les+Saintes-Maries-de-la-Mer%2C+Provence-Alpes-C%C3%B4te+d%27Azur%2C+France&is_ski_area=&ssne=Les+Saintes-Maries-de-la-Mer&ssne_untouched=Les+Saintes-Maries-de-la-Mer&city=-1465138&checkin_year=&checkin_month=&checkout_year=&checkout_month=&group_adults=2&group_children=0&no_rooms=1&from_sf=1&search_pageview_id=3d767274da8b0267&ac_suggestion_list_length=5&ac_suggestion_theme_list_length=0&ac_position=0&ac_langcode=fr&ac_click_type=b&dest_id=-1465138&dest_type=city&place_id_lat=43.45233&place_id_lon=4.42871&search_pageview_id=3d767274da8b0267&search_selected=true&ss_raw=saintes+maries'\n",
    "            ]"
   ]
  },
  {
   "cell_type": "markdown",
   "metadata": {},
   "source": [
    "Requests on booking to get hotels informations and store it in a dataframe"
   ]
  },
  {
   "cell_type": "code",
   "execution_count": 11,
   "metadata": {},
   "outputs": [],
   "source": [
    "for i,j in zip(list_cities,range(0,50,10)):\n",
    "    r3 = requests.get(i)\n",
    "    soup3 = BeautifulSoup(r3.content, \"html.parser\")\n",
    "    for item,i in zip(soup3.select('div.sr__card '),range(len(soup3.select('div.sr__card')))):\n",
    "        a=item.select('header.bui-spacer--medium a')[0].get('href')\n",
    "        lien = 'https://www.booking.com' + a\n",
    "        res=requests.get(lien)\n",
    "        soup2 = BeautifulSoup(res.content, \"html.parser\")\n",
    "        df.loc[i+j,'description']=soup2.find(\"div\",{\"id\":\"property_description_content\"}).text.replace('\\n',' ')\n",
    "        df.loc[i+j,'score']=soup2.find(\"div\",\"_9c5f726ff bd528f9ea6\").get_text()\n",
    "        df.loc[i+j,'name']=soup2.find('a','fn').get_text().split('\\n')[1].split(\"\\\\n\")[0]\n",
    "        df.loc[i+j,'coord']=soup2.find(\"a\",\"jq_tooltip\").get('data-atlas-latlng')\n",
    "        df.loc[i+j,'url']=lien"
   ]
  },
  {
   "cell_type": "code",
   "execution_count": 12,
   "metadata": {},
   "outputs": [
    {
     "data": {
      "text/html": [
       "<div>\n",
       "<style scoped>\n",
       "    .dataframe tbody tr th:only-of-type {\n",
       "        vertical-align: middle;\n",
       "    }\n",
       "\n",
       "    .dataframe tbody tr th {\n",
       "        vertical-align: top;\n",
       "    }\n",
       "\n",
       "    .dataframe thead th {\n",
       "        text-align: right;\n",
       "    }\n",
       "</style>\n",
       "<table border=\"1\" class=\"dataframe\">\n",
       "  <thead>\n",
       "    <tr style=\"text-align: right;\">\n",
       "      <th></th>\n",
       "      <th>name</th>\n",
       "      <th>url</th>\n",
       "      <th>coord</th>\n",
       "      <th>score</th>\n",
       "      <th>description</th>\n",
       "    </tr>\n",
       "  </thead>\n",
       "  <tbody>\n",
       "    <tr>\n",
       "      <th>0</th>\n",
       "      <td>Hôtel Princes de Catalogne</td>\n",
       "      <td>https://www.booking.com/hotel/fr/princes-de-ca...</td>\n",
       "      <td>42.52591431,3.08268160</td>\n",
       "      <td>8,1</td>\n",
       "      <td>Situé sur une place tranquille dans la ville ...</td>\n",
       "    </tr>\n",
       "    <tr>\n",
       "      <th>1</th>\n",
       "      <td>Hôtel la Bona Casa</td>\n",
       "      <td>https://www.booking.com/hotel/fr/la-bona-casa....</td>\n",
       "      <td>42.52547153,3.08269870</td>\n",
       "      <td>8,4</td>\n",
       "      <td>L'Hôtel la Bona Casa est situé dans le centre...</td>\n",
       "    </tr>\n",
       "    <tr>\n",
       "      <th>2</th>\n",
       "      <td>La Frégate</td>\n",
       "      <td>https://www.booking.com/hotel/fr/la-fra-c-gate...</td>\n",
       "      <td>42.52638625,3.08325659</td>\n",
       "      <td>8,1</td>\n",
       "      <td>La Frégate est située au cœur du village de C...</td>\n",
       "    </tr>\n",
       "    <tr>\n",
       "      <th>3</th>\n",
       "      <td>Hôtel Triton</td>\n",
       "      <td>https://www.booking.com/hotel/fr/triton.fr.htm...</td>\n",
       "      <td>42.52371617,3.08713473</td>\n",
       "      <td>7,5</td>\n",
       "      <td>Situé sur la plage du Boutiquet, l’Hôtel Trit...</td>\n",
       "    </tr>\n",
       "    <tr>\n",
       "      <th>4</th>\n",
       "      <td>Le Mas des Citronniers</td>\n",
       "      <td>https://www.booking.com/hotel/fr/lesmasdescitr...</td>\n",
       "      <td>42.52538159,3.08256391</td>\n",
       "      <td>8,0</td>\n",
       "      <td>Vous pouvez bénéficier d'une réduction Genius...</td>\n",
       "    </tr>\n",
       "  </tbody>\n",
       "</table>\n",
       "</div>"
      ],
      "text/plain": [
       "                         name  \\\n",
       "0  Hôtel Princes de Catalogne   \n",
       "1          Hôtel la Bona Casa   \n",
       "2                  La Frégate   \n",
       "3                Hôtel Triton   \n",
       "4      Le Mas des Citronniers   \n",
       "\n",
       "                                                 url                   coord  \\\n",
       "0  https://www.booking.com/hotel/fr/princes-de-ca...  42.52591431,3.08268160   \n",
       "1  https://www.booking.com/hotel/fr/la-bona-casa....  42.52547153,3.08269870   \n",
       "2  https://www.booking.com/hotel/fr/la-fra-c-gate...  42.52638625,3.08325659   \n",
       "3  https://www.booking.com/hotel/fr/triton.fr.htm...  42.52371617,3.08713473   \n",
       "4  https://www.booking.com/hotel/fr/lesmasdescitr...  42.52538159,3.08256391   \n",
       "\n",
       "  score                                        description  \n",
       "0   8,1   Situé sur une place tranquille dans la ville ...  \n",
       "1   8,4   L'Hôtel la Bona Casa est situé dans le centre...  \n",
       "2   8,1   La Frégate est située au cœur du village de C...  \n",
       "3   7,5   Situé sur la plage du Boutiquet, l’Hôtel Trit...  \n",
       "4   8,0   Vous pouvez bénéficier d'une réduction Genius...  "
      ]
     },
     "execution_count": 12,
     "metadata": {},
     "output_type": "execute_result"
    }
   ],
   "source": [
    "df.head()"
   ]
  },
  {
   "cell_type": "code",
   "execution_count": 13,
   "metadata": {},
   "outputs": [
    {
     "data": {
      "text/plain": [
       "['Collioure',\n",
       " 'Bayonne',\n",
       " 'Biarritz',\n",
       " 'Aigues-Mortes',\n",
       " 'Saintes-Maries-de-la-Mer']"
      ]
     },
     "execution_count": 13,
     "metadata": {},
     "output_type": "execute_result"
    }
   ],
   "source": [
    "df_best_cities['City'].to_list()"
   ]
  },
  {
   "cell_type": "code",
   "execution_count": 14,
   "metadata": {},
   "outputs": [],
   "source": [
    "df['description']=df['description'].replace('\\n',' ')"
   ]
  },
  {
   "cell_type": "markdown",
   "metadata": {},
   "source": [
    "Splitting latitude an longitude in two variables"
   ]
  },
  {
   "cell_type": "code",
   "execution_count": 15,
   "metadata": {
    "collapsed": true,
    "jupyter": {
     "outputs_hidden": true
    }
   },
   "outputs": [
    {
     "data": {
      "text/plain": [
       "0      [42.52591431, 3.08268160]\n",
       "1      [42.52547153, 3.08269870]\n",
       "2      [42.52638625, 3.08325659]\n",
       "3      [42.52371617, 3.08713473]\n",
       "4      [42.52538159, 3.08256391]\n",
       "5      [42.52876467, 3.07865426]\n",
       "6      [42.52666546, 3.08394089]\n",
       "7      [42.52708254, 3.08026291]\n",
       "8      [42.52417281, 3.08931068]\n",
       "9      [42.52616733, 3.08235571]\n",
       "10    [43.48908262, -1.45717809]\n",
       "11    [43.49618306, -1.46960109]\n",
       "12    [43.48502620, -1.47537053]\n",
       "13    [43.49048959, -1.45203531]\n",
       "14    [43.46451470, -1.49596530]\n",
       "15    [43.49112493, -1.45484090]\n",
       "16    [43.49534430, -1.48251180]\n",
       "17    [43.46494896, -1.49584383]\n",
       "18    [43.49271300, -1.46565900]\n",
       "19    [43.49540574, -1.47082418]\n",
       "20    [43.46638758, -1.54004395]\n",
       "21    [43.46632918, -1.54057503]\n",
       "22    [43.48437426, -1.55863568]\n",
       "23    [43.47827192, -1.56469077]\n",
       "24    [43.47650270, -1.56245649]\n",
       "25    [43.47220790, -1.53489947]\n",
       "26    [43.48217900, -1.56183958]\n",
       "27    [43.47853954, -1.55539960]\n",
       "28    [43.48186470, -1.55975819]\n",
       "29    [43.48447351, -1.55694455]\n",
       "30     [43.56721967, 4.18934360]\n",
       "31     [43.57298752, 4.19482470]\n",
       "32     [43.57702546, 4.19753909]\n",
       "33     [43.56899740, 4.18829820]\n",
       "34     [43.56651351, 4.19115815]\n",
       "35     [43.57186625, 4.19366169]\n",
       "36     [43.56803552, 4.19034380]\n",
       "37     [43.57639589, 4.19781804]\n",
       "38     [43.58606025, 4.19745116]\n",
       "39     [43.56694565, 4.19187346]\n",
       "40     [43.45134949, 4.42507625]\n",
       "41     [43.45106618, 4.42509368]\n",
       "42     [43.45463818, 4.43320200]\n",
       "43     [43.45233086, 4.43364993]\n",
       "44     [43.45334531, 4.43066597]\n",
       "45     [43.45033695, 4.42622423]\n",
       "46     [43.45262780, 4.43076655]\n",
       "47     [43.45349134, 4.43545103]\n",
       "48     [43.45113300, 4.43095300]\n",
       "49     [43.45217800, 4.42811600]\n",
       "Name: coord, dtype: object"
      ]
     },
     "execution_count": 15,
     "metadata": {},
     "output_type": "execute_result"
    }
   ],
   "source": [
    "split_coord = df['coord'].str.split(',')\n",
    "df.loc[:,'latitude'] = split_coord.apply(lambda x: x[0])\n",
    "df.loc[:,'longitude'] = split_coord.apply(lambda x: x[1])\n",
    "split_coord"
   ]
  },
  {
   "cell_type": "code",
   "execution_count": 16,
   "metadata": {},
   "outputs": [],
   "source": [
    "df=df.drop('coord',1)"
   ]
  },
  {
   "cell_type": "code",
   "execution_count": 20,
   "metadata": {},
   "outputs": [
    {
     "data": {
      "text/html": [
       "<div>\n",
       "<style scoped>\n",
       "    .dataframe tbody tr th:only-of-type {\n",
       "        vertical-align: middle;\n",
       "    }\n",
       "\n",
       "    .dataframe tbody tr th {\n",
       "        vertical-align: top;\n",
       "    }\n",
       "\n",
       "    .dataframe thead th {\n",
       "        text-align: right;\n",
       "    }\n",
       "</style>\n",
       "<table border=\"1\" class=\"dataframe\">\n",
       "  <thead>\n",
       "    <tr style=\"text-align: right;\">\n",
       "      <th></th>\n",
       "      <th>City</th>\n",
       "      <th>name</th>\n",
       "      <th>url</th>\n",
       "      <th>score</th>\n",
       "      <th>description</th>\n",
       "      <th>latitude</th>\n",
       "      <th>longitude</th>\n",
       "    </tr>\n",
       "  </thead>\n",
       "  <tbody>\n",
       "    <tr>\n",
       "      <th>0</th>\n",
       "      <td>0</td>\n",
       "      <td>Hôtel Princes de Catalogne</td>\n",
       "      <td>https://www.booking.com/hotel/fr/princes-de-ca...</td>\n",
       "      <td>8,1</td>\n",
       "      <td>Situé sur une place tranquille dans la ville ...</td>\n",
       "      <td>42.52591431</td>\n",
       "      <td>3.08268160</td>\n",
       "    </tr>\n",
       "    <tr>\n",
       "      <th>1</th>\n",
       "      <td>0</td>\n",
       "      <td>Hôtel la Bona Casa</td>\n",
       "      <td>https://www.booking.com/hotel/fr/la-bona-casa....</td>\n",
       "      <td>8,4</td>\n",
       "      <td>L'Hôtel la Bona Casa est situé dans le centre...</td>\n",
       "      <td>42.52547153</td>\n",
       "      <td>3.08269870</td>\n",
       "    </tr>\n",
       "    <tr>\n",
       "      <th>2</th>\n",
       "      <td>0</td>\n",
       "      <td>La Frégate</td>\n",
       "      <td>https://www.booking.com/hotel/fr/la-fra-c-gate...</td>\n",
       "      <td>8,1</td>\n",
       "      <td>La Frégate est située au cœur du village de C...</td>\n",
       "      <td>42.52638625</td>\n",
       "      <td>3.08325659</td>\n",
       "    </tr>\n",
       "    <tr>\n",
       "      <th>3</th>\n",
       "      <td>0</td>\n",
       "      <td>Hôtel Triton</td>\n",
       "      <td>https://www.booking.com/hotel/fr/triton.fr.htm...</td>\n",
       "      <td>7,5</td>\n",
       "      <td>Situé sur la plage du Boutiquet, l’Hôtel Trit...</td>\n",
       "      <td>42.52371617</td>\n",
       "      <td>3.08713473</td>\n",
       "    </tr>\n",
       "    <tr>\n",
       "      <th>4</th>\n",
       "      <td>0</td>\n",
       "      <td>Le Mas des Citronniers</td>\n",
       "      <td>https://www.booking.com/hotel/fr/lesmasdescitr...</td>\n",
       "      <td>8,0</td>\n",
       "      <td>Vous pouvez bénéficier d'une réduction Genius...</td>\n",
       "      <td>42.52538159</td>\n",
       "      <td>3.08256391</td>\n",
       "    </tr>\n",
       "  </tbody>\n",
       "</table>\n",
       "</div>"
      ],
      "text/plain": [
       "   City                        name  \\\n",
       "0     0  Hôtel Princes de Catalogne   \n",
       "1     0          Hôtel la Bona Casa   \n",
       "2     0                  La Frégate   \n",
       "3     0                Hôtel Triton   \n",
       "4     0      Le Mas des Citronniers   \n",
       "\n",
       "                                                 url score  \\\n",
       "0  https://www.booking.com/hotel/fr/princes-de-ca...   8,1   \n",
       "1  https://www.booking.com/hotel/fr/la-bona-casa....   8,4   \n",
       "2  https://www.booking.com/hotel/fr/la-fra-c-gate...   8,1   \n",
       "3  https://www.booking.com/hotel/fr/triton.fr.htm...   7,5   \n",
       "4  https://www.booking.com/hotel/fr/lesmasdescitr...   8,0   \n",
       "\n",
       "                                         description     latitude   longitude  \n",
       "0   Situé sur une place tranquille dans la ville ...  42.52591431  3.08268160  \n",
       "1   L'Hôtel la Bona Casa est situé dans le centre...  42.52547153  3.08269870  \n",
       "2   La Frégate est située au cœur du village de C...  42.52638625  3.08325659  \n",
       "3   Situé sur la plage du Boutiquet, l’Hôtel Trit...  42.52371617  3.08713473  \n",
       "4   Vous pouvez bénéficier d'une réduction Genius...  42.52538159  3.08256391  "
      ]
     },
     "execution_count": 20,
     "metadata": {},
     "output_type": "execute_result"
    }
   ],
   "source": [
    "df.head()"
   ]
  },
  {
   "cell_type": "code",
   "execution_count": 19,
   "metadata": {},
   "outputs": [],
   "source": [
    "df.insert(loc=0, column='City', value=0)"
   ]
  },
  {
   "cell_type": "code",
   "execution_count": 21,
   "metadata": {},
   "outputs": [],
   "source": [
    "df.loc[:9,'City']='Collioure'\n",
    "df.loc[10:19,'City']='Bayonne'\n",
    "df.loc[20:29,'City']='Biarritz'\n",
    "df.loc[30:39,'City']='Aigues-Mortes'\n",
    "df.loc[40:49,'City']='Saintes-Maries-de-la-Mer'"
   ]
  },
  {
   "cell_type": "markdown",
   "metadata": {},
   "source": [
    "cleaning score, lititude and longitude from string to float"
   ]
  },
  {
   "cell_type": "code",
   "execution_count": 23,
   "metadata": {},
   "outputs": [],
   "source": [
    "for i in range(len(df)):\n",
    "    df['score'][i]=df['score'][i].replace(',', '.')"
   ]
  },
  {
   "cell_type": "code",
   "execution_count": 24,
   "metadata": {},
   "outputs": [],
   "source": [
    "df['latitude'] = df['latitude'].astype(float)\n",
    "df['longitude'] = df['longitude'].astype(float)"
   ]
  },
  {
   "cell_type": "code",
   "execution_count": 25,
   "metadata": {},
   "outputs": [],
   "source": [
    "df['score'] = df['score'].astype(float)"
   ]
  },
  {
   "cell_type": "code",
   "execution_count": 26,
   "metadata": {},
   "outputs": [
    {
     "data": {
      "text/plain": [
       "numpy.float64"
      ]
     },
     "execution_count": 26,
     "metadata": {},
     "output_type": "execute_result"
    }
   ],
   "source": [
    "type(df['score'][0])"
   ]
  },
  {
   "cell_type": "code",
   "execution_count": 27,
   "metadata": {},
   "outputs": [
    {
     "data": {
      "text/plain": [
       "numpy.float64"
      ]
     },
     "execution_count": 27,
     "metadata": {},
     "output_type": "execute_result"
    }
   ],
   "source": [
    "type(df['longitude'][0])"
   ]
  },
  {
   "cell_type": "code",
   "execution_count": 28,
   "metadata": {},
   "outputs": [],
   "source": [
    "df.to_csv(\"top10_best_5_cities_by_temperature.csv\", index=False)"
   ]
  },
  {
   "cell_type": "code",
   "execution_count": 29,
   "metadata": {},
   "outputs": [
    {
     "data": {
      "text/html": [
       "<div>\n",
       "<style scoped>\n",
       "    .dataframe tbody tr th:only-of-type {\n",
       "        vertical-align: middle;\n",
       "    }\n",
       "\n",
       "    .dataframe tbody tr th {\n",
       "        vertical-align: top;\n",
       "    }\n",
       "\n",
       "    .dataframe thead th {\n",
       "        text-align: right;\n",
       "    }\n",
       "</style>\n",
       "<table border=\"1\" class=\"dataframe\">\n",
       "  <thead>\n",
       "    <tr style=\"text-align: right;\">\n",
       "      <th></th>\n",
       "      <th>City</th>\n",
       "      <th>name</th>\n",
       "      <th>url</th>\n",
       "      <th>score</th>\n",
       "      <th>description</th>\n",
       "      <th>latitude</th>\n",
       "      <th>longitude</th>\n",
       "    </tr>\n",
       "  </thead>\n",
       "  <tbody>\n",
       "    <tr>\n",
       "      <th>0</th>\n",
       "      <td>Collioure</td>\n",
       "      <td>Hôtel Princes de Catalogne</td>\n",
       "      <td>https://www.booking.com/hotel/fr/princes-de-ca...</td>\n",
       "      <td>8.1</td>\n",
       "      <td>Situé sur une place tranquille dans la ville ...</td>\n",
       "      <td>42.525914</td>\n",
       "      <td>3.082682</td>\n",
       "    </tr>\n",
       "    <tr>\n",
       "      <th>1</th>\n",
       "      <td>Collioure</td>\n",
       "      <td>Hôtel la Bona Casa</td>\n",
       "      <td>https://www.booking.com/hotel/fr/la-bona-casa....</td>\n",
       "      <td>8.4</td>\n",
       "      <td>L'Hôtel la Bona Casa est situé dans le centre...</td>\n",
       "      <td>42.525472</td>\n",
       "      <td>3.082699</td>\n",
       "    </tr>\n",
       "    <tr>\n",
       "      <th>2</th>\n",
       "      <td>Collioure</td>\n",
       "      <td>La Frégate</td>\n",
       "      <td>https://www.booking.com/hotel/fr/la-fra-c-gate...</td>\n",
       "      <td>8.1</td>\n",
       "      <td>La Frégate est située au cœur du village de C...</td>\n",
       "      <td>42.526386</td>\n",
       "      <td>3.083257</td>\n",
       "    </tr>\n",
       "    <tr>\n",
       "      <th>3</th>\n",
       "      <td>Collioure</td>\n",
       "      <td>Hôtel Triton</td>\n",
       "      <td>https://www.booking.com/hotel/fr/triton.fr.htm...</td>\n",
       "      <td>7.5</td>\n",
       "      <td>Situé sur la plage du Boutiquet, l’Hôtel Trit...</td>\n",
       "      <td>42.523716</td>\n",
       "      <td>3.087135</td>\n",
       "    </tr>\n",
       "    <tr>\n",
       "      <th>4</th>\n",
       "      <td>Collioure</td>\n",
       "      <td>Le Mas des Citronniers</td>\n",
       "      <td>https://www.booking.com/hotel/fr/lesmasdescitr...</td>\n",
       "      <td>8.0</td>\n",
       "      <td>Vous pouvez bénéficier d'une réduction Genius...</td>\n",
       "      <td>42.525382</td>\n",
       "      <td>3.082564</td>\n",
       "    </tr>\n",
       "  </tbody>\n",
       "</table>\n",
       "</div>"
      ],
      "text/plain": [
       "        City                        name  \\\n",
       "0  Collioure  Hôtel Princes de Catalogne   \n",
       "1  Collioure          Hôtel la Bona Casa   \n",
       "2  Collioure                  La Frégate   \n",
       "3  Collioure                Hôtel Triton   \n",
       "4  Collioure      Le Mas des Citronniers   \n",
       "\n",
       "                                                 url  score  \\\n",
       "0  https://www.booking.com/hotel/fr/princes-de-ca...    8.1   \n",
       "1  https://www.booking.com/hotel/fr/la-bona-casa....    8.4   \n",
       "2  https://www.booking.com/hotel/fr/la-fra-c-gate...    8.1   \n",
       "3  https://www.booking.com/hotel/fr/triton.fr.htm...    7.5   \n",
       "4  https://www.booking.com/hotel/fr/lesmasdescitr...    8.0   \n",
       "\n",
       "                                         description   latitude  longitude  \n",
       "0   Situé sur une place tranquille dans la ville ...  42.525914   3.082682  \n",
       "1   L'Hôtel la Bona Casa est situé dans le centre...  42.525472   3.082699  \n",
       "2   La Frégate est située au cœur du village de C...  42.526386   3.083257  \n",
       "3   Situé sur la plage du Boutiquet, l’Hôtel Trit...  42.523716   3.087135  \n",
       "4   Vous pouvez bénéficier d'une réduction Genius...  42.525382   3.082564  "
      ]
     },
     "execution_count": 29,
     "metadata": {},
     "output_type": "execute_result"
    }
   ],
   "source": [
    "df.head()"
   ]
  },
  {
   "cell_type": "code",
   "execution_count": null,
   "metadata": {},
   "outputs": [],
   "source": []
  }
 ],
 "metadata": {
  "kernelspec": {
   "display_name": "Python 3",
   "language": "python",
   "name": "python3"
  },
  "language_info": {
   "codemirror_mode": {
    "name": "ipython",
    "version": 3
   },
   "file_extension": ".py",
   "mimetype": "text/x-python",
   "name": "python",
   "nbconvert_exporter": "python",
   "pygments_lexer": "ipython3",
   "version": "3.8.6"
  }
 },
 "nbformat": 4,
 "nbformat_minor": 4
}
