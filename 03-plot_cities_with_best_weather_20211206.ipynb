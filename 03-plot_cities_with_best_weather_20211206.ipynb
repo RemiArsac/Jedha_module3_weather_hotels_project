{
 "cells": [
  {
   "cell_type": "code",
   "execution_count": 2,
   "metadata": {},
   "outputs": [
    {
     "name": "stdout",
     "output_type": "stream",
     "text": []
    },
    {
     "name": "stdout",
     "output_type": "stream",
     "text": [
      "Building jupyterlab assets (build:prod:minimize)\n",
      "Building jupyterlab assets (build:prod:minimize)\n",
      "[LabBuildApp] JupyterLab 2.2.8\n",
      "[LabBuildApp] Building in /opt/conda/share/jupyter/lab\n",
      "[LabBuildApp] Building jupyterlab assets (build:prod:minimize)\n"
     ]
    }
   ],
   "source": [
    "!pip install plotly==4.9.0 -q\n",
    "!pip install jupyterlab \"ipywidgets>=7.5\" -q\n",
    "!jupyter labextension install jupyterlab-plotly@4.9.0\n",
    "!jupyter labextension install @jupyter-widgets/jupyterlab-manager plotlywidget@4.9.0\n",
    "!jupyter lab build"
   ]
  },
  {
   "cell_type": "code",
   "execution_count": 1,
   "metadata": {},
   "outputs": [],
   "source": [
    "import pandas as pd\n",
    "import plotly.io as pio\n",
    "pio.renderers.default = \"iframe\"\n",
    "import plotly.express as px\n",
    "import plotly.graph_objects as go\n",
    "from plotly.subplots import make_subplots\n",
    "from plotly import colors\n",
    "import numpy as np\n",
    "import matplotlib.pyplot as plt"
   ]
  },
  {
   "cell_type": "code",
   "execution_count": 2,
   "metadata": {},
   "outputs": [
    {
     "data": {
      "text/html": [
       "<div>\n",
       "<style scoped>\n",
       "    .dataframe tbody tr th:only-of-type {\n",
       "        vertical-align: middle;\n",
       "    }\n",
       "\n",
       "    .dataframe tbody tr th {\n",
       "        vertical-align: top;\n",
       "    }\n",
       "\n",
       "    .dataframe thead th {\n",
       "        text-align: right;\n",
       "    }\n",
       "</style>\n",
       "<table border=\"1\" class=\"dataframe\">\n",
       "  <thead>\n",
       "    <tr style=\"text-align: right;\">\n",
       "      <th></th>\n",
       "      <th>Id</th>\n",
       "      <th>City</th>\n",
       "      <th>lat</th>\n",
       "      <th>lon</th>\n",
       "      <th>avg_day_temperature</th>\n",
       "      <th>avg_rain_probability</th>\n",
       "      <th>avg_rain_probability_size</th>\n",
       "    </tr>\n",
       "  </thead>\n",
       "  <tbody>\n",
       "    <tr>\n",
       "      <th>0</th>\n",
       "      <td>18</td>\n",
       "      <td>Gorges du Verdon</td>\n",
       "      <td>43.749656</td>\n",
       "      <td>6.328562</td>\n",
       "      <td>3.00875</td>\n",
       "      <td>0.29250</td>\n",
       "      <td>30.532858</td>\n",
       "    </tr>\n",
       "    <tr>\n",
       "      <th>1</th>\n",
       "      <td>27</td>\n",
       "      <td>Saintes-Maries-de-la-Mer</td>\n",
       "      <td>43.452277</td>\n",
       "      <td>4.428717</td>\n",
       "      <td>9.17125</td>\n",
       "      <td>0.30250</td>\n",
       "      <td>27.269943</td>\n",
       "    </tr>\n",
       "    <tr>\n",
       "      <th>2</th>\n",
       "      <td>20</td>\n",
       "      <td>Cassis</td>\n",
       "      <td>43.214036</td>\n",
       "      <td>5.539632</td>\n",
       "      <td>8.94875</td>\n",
       "      <td>0.30625</td>\n",
       "      <td>26.188127</td>\n",
       "    </tr>\n",
       "    <tr>\n",
       "      <th>3</th>\n",
       "      <td>22</td>\n",
       "      <td>Aix-en-Provence</td>\n",
       "      <td>43.529842</td>\n",
       "      <td>5.447474</td>\n",
       "      <td>6.46625</td>\n",
       "      <td>0.31125</td>\n",
       "      <td>24.849842</td>\n",
       "    </tr>\n",
       "    <tr>\n",
       "      <th>4</th>\n",
       "      <td>21</td>\n",
       "      <td>Marseille</td>\n",
       "      <td>43.296174</td>\n",
       "      <td>5.369953</td>\n",
       "      <td>8.69500</td>\n",
       "      <td>0.31375</td>\n",
       "      <td>24.221750</td>\n",
       "    </tr>\n",
       "  </tbody>\n",
       "</table>\n",
       "</div>"
      ],
      "text/plain": [
       "   Id                      City        lat       lon  avg_day_temperature  \\\n",
       "0  18          Gorges du Verdon  43.749656  6.328562              3.00875   \n",
       "1  27  Saintes-Maries-de-la-Mer  43.452277  4.428717              9.17125   \n",
       "2  20                    Cassis  43.214036  5.539632              8.94875   \n",
       "3  22           Aix-en-Provence  43.529842  5.447474              6.46625   \n",
       "4  21                 Marseille  43.296174  5.369953              8.69500   \n",
       "\n",
       "   avg_rain_probability  avg_rain_probability_size  \n",
       "0               0.29250                  30.532858  \n",
       "1               0.30250                  27.269943  \n",
       "2               0.30625                  26.188127  \n",
       "3               0.31125                  24.849842  \n",
       "4               0.31375                  24.221750  "
      ]
     },
     "execution_count": 2,
     "metadata": {},
     "output_type": "execute_result"
    }
   ],
   "source": [
    "# Lecture du fichier de probabilité \n",
    "df_by_avgpop_asc = pd.read_csv('cities_avg_rain_probability_asc.csv')\n",
    "df_by_avgpop_asc['avg_rain_probability_size'] = np.exp(1 / df_by_avgpop_asc['avg_rain_probability'])\n",
    "df_by_avgpop_asc.head()"
   ]
  },
  {
   "cell_type": "code",
   "execution_count": 3,
   "metadata": {},
   "outputs": [
    {
     "data": {
      "text/html": [
       "<iframe\n",
       "    scrolling=\"no\"\n",
       "    width=\"100%\"\n",
       "    height=\"545px\"\n",
       "    src=\"iframe_figures/figure_3.html\"\n",
       "    frameborder=\"0\"\n",
       "    allowfullscreen\n",
       "></iframe>\n"
      ]
     },
     "metadata": {},
     "output_type": "display_data"
    }
   ],
   "source": [
    "fig_best_cities_avgpop_asc = px.scatter_mapbox(df_by_avgpop_asc, hover_name='City', title='35 cities with their average rain probability on next 7 days', lat='lat', lon='lon', color='avg_rain_probability', size='avg_rain_probability_size', color_continuous_scale=px.colors.sequential.Bluered, mapbox_style=\"carto-positron\", zoom=4)\n",
    "fig_best_cities_avgpop_asc.show()"
   ]
  },
  {
   "cell_type": "code",
   "execution_count": 4,
   "metadata": {},
   "outputs": [
    {
     "data": {
      "text/html": [
       "<div>\n",
       "<style scoped>\n",
       "    .dataframe tbody tr th:only-of-type {\n",
       "        vertical-align: middle;\n",
       "    }\n",
       "\n",
       "    .dataframe tbody tr th {\n",
       "        vertical-align: top;\n",
       "    }\n",
       "\n",
       "    .dataframe thead th {\n",
       "        text-align: right;\n",
       "    }\n",
       "</style>\n",
       "<table border=\"1\" class=\"dataframe\">\n",
       "  <thead>\n",
       "    <tr style=\"text-align: right;\">\n",
       "      <th></th>\n",
       "      <th>Id</th>\n",
       "      <th>City</th>\n",
       "      <th>lat</th>\n",
       "      <th>lon</th>\n",
       "      <th>avg_day_temperature</th>\n",
       "      <th>avg_rain_probability</th>\n",
       "      <th>avg_day_temperature_size</th>\n",
       "    </tr>\n",
       "  </thead>\n",
       "  <tbody>\n",
       "    <tr>\n",
       "      <th>0</th>\n",
       "      <td>28</td>\n",
       "      <td>Collioure</td>\n",
       "      <td>42.525050</td>\n",
       "      <td>3.083155</td>\n",
       "      <td>10.89500</td>\n",
       "      <td>0.37625</td>\n",
       "      <td>53906.158055</td>\n",
       "    </tr>\n",
       "    <tr>\n",
       "      <th>1</th>\n",
       "      <td>34</td>\n",
       "      <td>Bayonne</td>\n",
       "      <td>43.493338</td>\n",
       "      <td>-1.475099</td>\n",
       "      <td>9.80375</td>\n",
       "      <td>0.85875</td>\n",
       "      <td>18101.498430</td>\n",
       "    </tr>\n",
       "    <tr>\n",
       "      <th>2</th>\n",
       "      <td>33</td>\n",
       "      <td>Biarritz</td>\n",
       "      <td>43.471144</td>\n",
       "      <td>-1.552727</td>\n",
       "      <td>9.58875</td>\n",
       "      <td>0.86875</td>\n",
       "      <td>14599.608613</td>\n",
       "    </tr>\n",
       "    <tr>\n",
       "      <th>3</th>\n",
       "      <td>26</td>\n",
       "      <td>Aigues-Mortes</td>\n",
       "      <td>43.565822</td>\n",
       "      <td>4.191284</td>\n",
       "      <td>9.24875</td>\n",
       "      <td>0.32500</td>\n",
       "      <td>10391.568135</td>\n",
       "    </tr>\n",
       "    <tr>\n",
       "      <th>4</th>\n",
       "      <td>27</td>\n",
       "      <td>Saintes-Maries-de-la-Mer</td>\n",
       "      <td>43.452277</td>\n",
       "      <td>4.428717</td>\n",
       "      <td>9.17125</td>\n",
       "      <td>0.30250</td>\n",
       "      <td>9616.637978</td>\n",
       "    </tr>\n",
       "  </tbody>\n",
       "</table>\n",
       "</div>"
      ],
      "text/plain": [
       "   Id                      City        lat       lon  avg_day_temperature  \\\n",
       "0  28                 Collioure  42.525050  3.083155             10.89500   \n",
       "1  34                   Bayonne  43.493338 -1.475099              9.80375   \n",
       "2  33                  Biarritz  43.471144 -1.552727              9.58875   \n",
       "3  26             Aigues-Mortes  43.565822  4.191284              9.24875   \n",
       "4  27  Saintes-Maries-de-la-Mer  43.452277  4.428717              9.17125   \n",
       "\n",
       "   avg_rain_probability  avg_day_temperature_size  \n",
       "0               0.37625              53906.158055  \n",
       "1               0.85875              18101.498430  \n",
       "2               0.86875              14599.608613  \n",
       "3               0.32500              10391.568135  \n",
       "4               0.30250               9616.637978  "
      ]
     },
     "metadata": {},
     "output_type": "display_data"
    }
   ],
   "source": [
    "df_by_avgtemp_desc = pd.read_csv('cities_avg_day_temperature_desc.csv')\n",
    "df_by_avgtemp_desc['avg_day_temperature_size'] = np.exp(df_by_avgtemp_desc['avg_day_temperature'])\n",
    "display(df_by_avgtemp_desc.head())"
   ]
  },
  {
   "cell_type": "code",
   "execution_count": 5,
   "metadata": {},
   "outputs": [
    {
     "data": {
      "text/html": [
       "<iframe\n",
       "    scrolling=\"no\"\n",
       "    width=\"100%\"\n",
       "    height=\"545px\"\n",
       "    src=\"iframe_figures/figure_5.html\"\n",
       "    frameborder=\"0\"\n",
       "    allowfullscreen\n",
       "></iframe>\n"
      ]
     },
     "metadata": {},
     "output_type": "display_data"
    }
   ],
   "source": [
    "fig_best_cities_avgtemp_desc = px.scatter_mapbox(df_by_avgtemp_desc, hover_name='City', title='35 cities with their average day temperature on next 7 days', lat='lat', lon='lon', color='avg_day_temperature', size='avg_day_temperature', color_continuous_scale=px.colors.sequential.Bluered, mapbox_style=\"carto-positron\", zoom=4)\n",
    "fig_best_cities_avgtemp_desc.show()"
   ]
  },
  {
   "cell_type": "code",
   "execution_count": 6,
   "metadata": {},
   "outputs": [
    {
     "data": {
      "text/html": [
       "<iframe\n",
       "    scrolling=\"no\"\n",
       "    width=\"100%\"\n",
       "    height=\"545px\"\n",
       "    src=\"iframe_figures/figure_6.html\"\n",
       "    frameborder=\"0\"\n",
       "    allowfullscreen\n",
       "></iframe>\n"
      ]
     },
     "metadata": {},
     "output_type": "display_data"
    }
   ],
   "source": [
    "fig_best_cities_avgpop_asc_top5 = px.scatter_mapbox(df_by_avgpop_asc.head(5), hover_name='City', title='Top 5 cities by average rain probability on next 7 days', lat='lat', lon='lon', color='avg_rain_probability', size='avg_rain_probability_size', color_continuous_scale=px.colors.sequential.Bluered, mapbox_style=\"carto-positron\", zoom=4)\n",
    "fig_best_cities_avgpop_asc_top5.show()"
   ]
  },
  {
   "cell_type": "code",
   "execution_count": 7,
   "metadata": {},
   "outputs": [
    {
     "data": {
      "text/html": [
       "<iframe\n",
       "    scrolling=\"no\"\n",
       "    width=\"100%\"\n",
       "    height=\"545px\"\n",
       "    src=\"iframe_figures/figure_7.html\"\n",
       "    frameborder=\"0\"\n",
       "    allowfullscreen\n",
       "></iframe>\n"
      ]
     },
     "metadata": {},
     "output_type": "display_data"
    }
   ],
   "source": [
    "fig_best_cities_avgtemp_desc_top5 = px.scatter_mapbox(df_by_avgtemp_desc.head(), hover_name='City', title='Top 5 cities by average day temperature on next 7 days', lat='lat', lon='lon', color='avg_day_temperature', size='avg_day_temperature', color_continuous_scale=px.colors.sequential.Bluered, mapbox_style=\"carto-positron\", zoom=4)\n",
    "fig_best_cities_avgtemp_desc_top5.show()"
   ]
  },
  {
   "cell_type": "markdown",
   "metadata": {},
   "source": [
    "Nous décidons de prendre la température comme critère permettant de choisir le top 5 des destinations"
   ]
  },
  {
   "cell_type": "code",
   "execution_count": 8,
   "metadata": {},
   "outputs": [
    {
     "data": {
      "text/html": [
       "<div>\n",
       "<style scoped>\n",
       "    .dataframe tbody tr th:only-of-type {\n",
       "        vertical-align: middle;\n",
       "    }\n",
       "\n",
       "    .dataframe tbody tr th {\n",
       "        vertical-align: top;\n",
       "    }\n",
       "\n",
       "    .dataframe thead th {\n",
       "        text-align: right;\n",
       "    }\n",
       "</style>\n",
       "<table border=\"1\" class=\"dataframe\">\n",
       "  <thead>\n",
       "    <tr style=\"text-align: right;\">\n",
       "      <th></th>\n",
       "      <th>name</th>\n",
       "      <th>url</th>\n",
       "      <th>score</th>\n",
       "      <th>description</th>\n",
       "      <th>City</th>\n",
       "      <th>latitude</th>\n",
       "      <th>longitude</th>\n",
       "    </tr>\n",
       "  </thead>\n",
       "  <tbody>\n",
       "    <tr>\n",
       "      <th>0</th>\n",
       "      <td>Hôtel Princes de Catalogne</td>\n",
       "      <td>https://www.booking.com/hotel/fr/princes-de-ca...</td>\n",
       "      <td>8.1</td>\n",
       "      <td>Situé sur une place tranquille dans la ville ...</td>\n",
       "      <td>Collioure</td>\n",
       "      <td>42.525914</td>\n",
       "      <td>3.082682</td>\n",
       "    </tr>\n",
       "    <tr>\n",
       "      <th>1</th>\n",
       "      <td>Hôtel la Bona Casa</td>\n",
       "      <td>https://www.booking.com/hotel/fr/la-bona-casa....</td>\n",
       "      <td>8.4</td>\n",
       "      <td>L'Hôtel la Bona Casa est situé dans le centre...</td>\n",
       "      <td>Collioure</td>\n",
       "      <td>42.525472</td>\n",
       "      <td>3.082699</td>\n",
       "    </tr>\n",
       "    <tr>\n",
       "      <th>2</th>\n",
       "      <td>La Frégate</td>\n",
       "      <td>https://www.booking.com/hotel/fr/la-fra-c-gate...</td>\n",
       "      <td>8.1</td>\n",
       "      <td>La Frégate est située au cœur du village de C...</td>\n",
       "      <td>Collioure</td>\n",
       "      <td>42.526386</td>\n",
       "      <td>3.083257</td>\n",
       "    </tr>\n",
       "    <tr>\n",
       "      <th>3</th>\n",
       "      <td>Hôtel Triton</td>\n",
       "      <td>https://www.booking.com/hotel/fr/triton.fr.htm...</td>\n",
       "      <td>7.5</td>\n",
       "      <td>Situé sur la plage du Boutiquet, l’Hôtel Trit...</td>\n",
       "      <td>Collioure</td>\n",
       "      <td>42.523716</td>\n",
       "      <td>3.087135</td>\n",
       "    </tr>\n",
       "    <tr>\n",
       "      <th>4</th>\n",
       "      <td>Le Mas des Citronniers</td>\n",
       "      <td>https://www.booking.com/hotel/fr/lesmasdescitr...</td>\n",
       "      <td>8.0</td>\n",
       "      <td>Vous pouvez bénéficier d'une réduction Genius...</td>\n",
       "      <td>Collioure</td>\n",
       "      <td>42.525382</td>\n",
       "      <td>3.082564</td>\n",
       "    </tr>\n",
       "  </tbody>\n",
       "</table>\n",
       "</div>"
      ],
      "text/plain": [
       "                         name  \\\n",
       "0  Hôtel Princes de Catalogne   \n",
       "1          Hôtel la Bona Casa   \n",
       "2                  La Frégate   \n",
       "3                Hôtel Triton   \n",
       "4      Le Mas des Citronniers   \n",
       "\n",
       "                                                 url  score  \\\n",
       "0  https://www.booking.com/hotel/fr/princes-de-ca...    8.1   \n",
       "1  https://www.booking.com/hotel/fr/la-bona-casa....    8.4   \n",
       "2  https://www.booking.com/hotel/fr/la-fra-c-gate...    8.1   \n",
       "3  https://www.booking.com/hotel/fr/triton.fr.htm...    7.5   \n",
       "4  https://www.booking.com/hotel/fr/lesmasdescitr...    8.0   \n",
       "\n",
       "                                         description       City   latitude  \\\n",
       "0   Situé sur une place tranquille dans la ville ...  Collioure  42.525914   \n",
       "1   L'Hôtel la Bona Casa est situé dans le centre...  Collioure  42.525472   \n",
       "2   La Frégate est située au cœur du village de C...  Collioure  42.526386   \n",
       "3   Situé sur la plage du Boutiquet, l’Hôtel Trit...  Collioure  42.523716   \n",
       "4   Vous pouvez bénéficier d'une réduction Genius...  Collioure  42.525382   \n",
       "\n",
       "   longitude  \n",
       "0   3.082682  \n",
       "1   3.082699  \n",
       "2   3.083257  \n",
       "3   3.087135  \n",
       "4   3.082564  "
      ]
     },
     "execution_count": 8,
     "metadata": {},
     "output_type": "execute_result"
    }
   ],
   "source": [
    "df_top10hotels_for_best_5_cities = pd.read_csv('top10_best_5_cities_by_temperature.csv')\n",
    "df_top10hotels_for_best_5_cities.head()"
   ]
  },
  {
   "cell_type": "code",
   "execution_count": 9,
   "metadata": {},
   "outputs": [
    {
     "data": {
      "text/html": [
       "<iframe\n",
       "    scrolling=\"no\"\n",
       "    width=\"100%\"\n",
       "    height=\"545px\"\n",
       "    src=\"iframe_figures/figure_9.html\"\n",
       "    frameborder=\"0\"\n",
       "    allowfullscreen\n",
       "></iframe>\n"
      ]
     },
     "metadata": {},
     "output_type": "display_data"
    }
   ],
   "source": [
    "fig_best_cities_top10 = px.scatter_mapbox(df_top10hotels_for_best_5_cities, lat='latitude', lon='longitude', hover_name='name', title='Best hotels for top 5 cities by temperature', color='score', size='score', color_continuous_scale=px.colors.sequential.Bluered, mapbox_style=\"carto-positron\", zoom=4)\n",
    "fig_best_cities_top10.show()"
   ]
  },
  {
   "cell_type": "code",
   "execution_count": 10,
   "metadata": {},
   "outputs": [
    {
     "data": {
      "text/html": [
       "<div>\n",
       "<style scoped>\n",
       "    .dataframe tbody tr th:only-of-type {\n",
       "        vertical-align: middle;\n",
       "    }\n",
       "\n",
       "    .dataframe tbody tr th {\n",
       "        vertical-align: top;\n",
       "    }\n",
       "\n",
       "    .dataframe thead th {\n",
       "        text-align: right;\n",
       "    }\n",
       "</style>\n",
       "<table border=\"1\" class=\"dataframe\">\n",
       "  <thead>\n",
       "    <tr style=\"text-align: right;\">\n",
       "      <th></th>\n",
       "      <th>city_name</th>\n",
       "      <th>hotel_name</th>\n",
       "      <th>url</th>\n",
       "      <th>score</th>\n",
       "      <th>description</th>\n",
       "      <th>lat_hotel</th>\n",
       "      <th>lon_hotel</th>\n",
       "    </tr>\n",
       "  </thead>\n",
       "  <tbody>\n",
       "    <tr>\n",
       "      <th>0</th>\n",
       "      <td>Collioure</td>\n",
       "      <td>Hôtel Princes de Catalogne</td>\n",
       "      <td>https://www.booking.com/hotel/fr/princes-de-ca...</td>\n",
       "      <td>8.1</td>\n",
       "      <td>Situé sur une place tranquille dans la ville ...</td>\n",
       "      <td>42.525914</td>\n",
       "      <td>3.082682</td>\n",
       "    </tr>\n",
       "    <tr>\n",
       "      <th>1</th>\n",
       "      <td>Collioure</td>\n",
       "      <td>Hôtel la Bona Casa</td>\n",
       "      <td>https://www.booking.com/hotel/fr/la-bona-casa....</td>\n",
       "      <td>8.4</td>\n",
       "      <td>L'Hôtel la Bona Casa est situé dans le centre...</td>\n",
       "      <td>42.525472</td>\n",
       "      <td>3.082699</td>\n",
       "    </tr>\n",
       "    <tr>\n",
       "      <th>2</th>\n",
       "      <td>Collioure</td>\n",
       "      <td>La Frégate</td>\n",
       "      <td>https://www.booking.com/hotel/fr/la-fra-c-gate...</td>\n",
       "      <td>8.1</td>\n",
       "      <td>La Frégate est située au cœur du village de C...</td>\n",
       "      <td>42.526386</td>\n",
       "      <td>3.083257</td>\n",
       "    </tr>\n",
       "    <tr>\n",
       "      <th>3</th>\n",
       "      <td>Collioure</td>\n",
       "      <td>Hôtel Triton</td>\n",
       "      <td>https://www.booking.com/hotel/fr/triton.fr.htm...</td>\n",
       "      <td>7.5</td>\n",
       "      <td>Situé sur la plage du Boutiquet, l’Hôtel Trit...</td>\n",
       "      <td>42.523716</td>\n",
       "      <td>3.087135</td>\n",
       "    </tr>\n",
       "    <tr>\n",
       "      <th>4</th>\n",
       "      <td>Collioure</td>\n",
       "      <td>Le Mas des Citronniers</td>\n",
       "      <td>https://www.booking.com/hotel/fr/lesmasdescitr...</td>\n",
       "      <td>8.0</td>\n",
       "      <td>Vous pouvez bénéficier d'une réduction Genius...</td>\n",
       "      <td>42.525382</td>\n",
       "      <td>3.082564</td>\n",
       "    </tr>\n",
       "  </tbody>\n",
       "</table>\n",
       "</div>"
      ],
      "text/plain": [
       "   city_name                  hotel_name  \\\n",
       "0  Collioure  Hôtel Princes de Catalogne   \n",
       "1  Collioure          Hôtel la Bona Casa   \n",
       "2  Collioure                  La Frégate   \n",
       "3  Collioure                Hôtel Triton   \n",
       "4  Collioure      Le Mas des Citronniers   \n",
       "\n",
       "                                                 url  score  \\\n",
       "0  https://www.booking.com/hotel/fr/princes-de-ca...    8.1   \n",
       "1  https://www.booking.com/hotel/fr/la-bona-casa....    8.4   \n",
       "2  https://www.booking.com/hotel/fr/la-fra-c-gate...    8.1   \n",
       "3  https://www.booking.com/hotel/fr/triton.fr.htm...    7.5   \n",
       "4  https://www.booking.com/hotel/fr/lesmasdescitr...    8.0   \n",
       "\n",
       "                                         description  lat_hotel  lon_hotel  \n",
       "0   Situé sur une place tranquille dans la ville ...  42.525914   3.082682  \n",
       "1   L'Hôtel la Bona Casa est situé dans le centre...  42.525472   3.082699  \n",
       "2   La Frégate est située au cœur du village de C...  42.526386   3.083257  \n",
       "3   Situé sur la plage du Boutiquet, l’Hôtel Trit...  42.523716   3.087135  \n",
       "4   Vous pouvez bénéficier d'une réduction Genius...  42.525382   3.082564  "
      ]
     },
     "metadata": {},
     "output_type": "display_data"
    }
   ],
   "source": [
    "df_top10hotels_for_best_5_cities = df_top10hotels_for_best_5_cities[['City', 'name', 'url', 'score', 'description', 'latitude', 'longitude']]\n",
    "df_top10hotels_for_best_5_cities = df_top10hotels_for_best_5_cities.rename(columns={'City':'city_name', 'name':'hotel_name', 'latitude':'lat_hotel', 'longitude':'lon_hotel'})\n",
    "display(df_top10hotels_for_best_5_cities.head())"
   ]
  },
  {
   "cell_type": "code",
   "execution_count": 11,
   "metadata": {},
   "outputs": [
    {
     "data": {
      "text/html": [
       "<div>\n",
       "<style scoped>\n",
       "    .dataframe tbody tr th:only-of-type {\n",
       "        vertical-align: middle;\n",
       "    }\n",
       "\n",
       "    .dataframe tbody tr th {\n",
       "        vertical-align: top;\n",
       "    }\n",
       "\n",
       "    .dataframe thead th {\n",
       "        text-align: right;\n",
       "    }\n",
       "</style>\n",
       "<table border=\"1\" class=\"dataframe\">\n",
       "  <thead>\n",
       "    <tr style=\"text-align: right;\">\n",
       "      <th></th>\n",
       "      <th>Id</th>\n",
       "      <th>City</th>\n",
       "      <th>lat</th>\n",
       "      <th>lon</th>\n",
       "      <th>avg_day_temperature</th>\n",
       "      <th>avg_rain_probability</th>\n",
       "      <th>avg_day_temperature_size</th>\n",
       "    </tr>\n",
       "  </thead>\n",
       "  <tbody>\n",
       "    <tr>\n",
       "      <th>0</th>\n",
       "      <td>28</td>\n",
       "      <td>Collioure</td>\n",
       "      <td>42.525050</td>\n",
       "      <td>3.083155</td>\n",
       "      <td>10.89500</td>\n",
       "      <td>0.37625</td>\n",
       "      <td>53906.158055</td>\n",
       "    </tr>\n",
       "    <tr>\n",
       "      <th>1</th>\n",
       "      <td>34</td>\n",
       "      <td>Bayonne</td>\n",
       "      <td>43.493338</td>\n",
       "      <td>-1.475099</td>\n",
       "      <td>9.80375</td>\n",
       "      <td>0.85875</td>\n",
       "      <td>18101.498430</td>\n",
       "    </tr>\n",
       "    <tr>\n",
       "      <th>2</th>\n",
       "      <td>33</td>\n",
       "      <td>Biarritz</td>\n",
       "      <td>43.471144</td>\n",
       "      <td>-1.552727</td>\n",
       "      <td>9.58875</td>\n",
       "      <td>0.86875</td>\n",
       "      <td>14599.608613</td>\n",
       "    </tr>\n",
       "    <tr>\n",
       "      <th>3</th>\n",
       "      <td>26</td>\n",
       "      <td>Aigues-Mortes</td>\n",
       "      <td>43.565822</td>\n",
       "      <td>4.191284</td>\n",
       "      <td>9.24875</td>\n",
       "      <td>0.32500</td>\n",
       "      <td>10391.568135</td>\n",
       "    </tr>\n",
       "    <tr>\n",
       "      <th>4</th>\n",
       "      <td>27</td>\n",
       "      <td>Saintes-Maries-de-la-Mer</td>\n",
       "      <td>43.452277</td>\n",
       "      <td>4.428717</td>\n",
       "      <td>9.17125</td>\n",
       "      <td>0.30250</td>\n",
       "      <td>9616.637978</td>\n",
       "    </tr>\n",
       "  </tbody>\n",
       "</table>\n",
       "</div>"
      ],
      "text/plain": [
       "   Id                      City        lat       lon  avg_day_temperature  \\\n",
       "0  28                 Collioure  42.525050  3.083155             10.89500   \n",
       "1  34                   Bayonne  43.493338 -1.475099              9.80375   \n",
       "2  33                  Biarritz  43.471144 -1.552727              9.58875   \n",
       "3  26             Aigues-Mortes  43.565822  4.191284              9.24875   \n",
       "4  27  Saintes-Maries-de-la-Mer  43.452277  4.428717              9.17125   \n",
       "\n",
       "   avg_rain_probability  avg_day_temperature_size  \n",
       "0               0.37625              53906.158055  \n",
       "1               0.85875              18101.498430  \n",
       "2               0.86875              14599.608613  \n",
       "3               0.32500              10391.568135  \n",
       "4               0.30250               9616.637978  "
      ]
     },
     "execution_count": 11,
     "metadata": {},
     "output_type": "execute_result"
    }
   ],
   "source": [
    "df_by_avgtemp_desc.head()"
   ]
  },
  {
   "cell_type": "code",
   "execution_count": 12,
   "metadata": {},
   "outputs": [
    {
     "data": {
      "text/html": [
       "<div>\n",
       "<style scoped>\n",
       "    .dataframe tbody tr th:only-of-type {\n",
       "        vertical-align: middle;\n",
       "    }\n",
       "\n",
       "    .dataframe tbody tr th {\n",
       "        vertical-align: top;\n",
       "    }\n",
       "\n",
       "    .dataframe thead th {\n",
       "        text-align: right;\n",
       "    }\n",
       "</style>\n",
       "<table border=\"1\" class=\"dataframe\">\n",
       "  <thead>\n",
       "    <tr style=\"text-align: right;\">\n",
       "      <th></th>\n",
       "      <th>Id_city</th>\n",
       "      <th>city_name</th>\n",
       "      <th>lat_city</th>\n",
       "      <th>lon_city</th>\n",
       "      <th>avg_day_temperature</th>\n",
       "      <th>avg_rain_probability</th>\n",
       "    </tr>\n",
       "  </thead>\n",
       "  <tbody>\n",
       "    <tr>\n",
       "      <th>0</th>\n",
       "      <td>28</td>\n",
       "      <td>Collioure</td>\n",
       "      <td>42.525050</td>\n",
       "      <td>3.083155</td>\n",
       "      <td>10.89500</td>\n",
       "      <td>0.37625</td>\n",
       "    </tr>\n",
       "    <tr>\n",
       "      <th>1</th>\n",
       "      <td>34</td>\n",
       "      <td>Bayonne</td>\n",
       "      <td>43.493338</td>\n",
       "      <td>-1.475099</td>\n",
       "      <td>9.80375</td>\n",
       "      <td>0.85875</td>\n",
       "    </tr>\n",
       "    <tr>\n",
       "      <th>2</th>\n",
       "      <td>33</td>\n",
       "      <td>Biarritz</td>\n",
       "      <td>43.471144</td>\n",
       "      <td>-1.552727</td>\n",
       "      <td>9.58875</td>\n",
       "      <td>0.86875</td>\n",
       "    </tr>\n",
       "    <tr>\n",
       "      <th>3</th>\n",
       "      <td>26</td>\n",
       "      <td>Aigues-Mortes</td>\n",
       "      <td>43.565822</td>\n",
       "      <td>4.191284</td>\n",
       "      <td>9.24875</td>\n",
       "      <td>0.32500</td>\n",
       "    </tr>\n",
       "    <tr>\n",
       "      <th>4</th>\n",
       "      <td>27</td>\n",
       "      <td>Saintes-Maries-de-la-Mer</td>\n",
       "      <td>43.452277</td>\n",
       "      <td>4.428717</td>\n",
       "      <td>9.17125</td>\n",
       "      <td>0.30250</td>\n",
       "    </tr>\n",
       "  </tbody>\n",
       "</table>\n",
       "</div>"
      ],
      "text/plain": [
       "   Id_city                 city_name   lat_city  lon_city  \\\n",
       "0       28                 Collioure  42.525050  3.083155   \n",
       "1       34                   Bayonne  43.493338 -1.475099   \n",
       "2       33                  Biarritz  43.471144 -1.552727   \n",
       "3       26             Aigues-Mortes  43.565822  4.191284   \n",
       "4       27  Saintes-Maries-de-la-Mer  43.452277  4.428717   \n",
       "\n",
       "   avg_day_temperature  avg_rain_probability  \n",
       "0             10.89500               0.37625  \n",
       "1              9.80375               0.85875  \n",
       "2              9.58875               0.86875  \n",
       "3              9.24875               0.32500  \n",
       "4              9.17125               0.30250  "
      ]
     },
     "execution_count": 12,
     "metadata": {},
     "output_type": "execute_result"
    }
   ],
   "source": [
    "df_by_avgtemp_desc = df_by_avgtemp_desc.rename(columns={'lat':'lat_city', 'lon':'lon_city', 'Id':'Id_city', 'City':'city_name'})\n",
    "df_by_avgtemp_desc = df_by_avgtemp_desc.drop(columns={'avg_day_temperature_size'})\n",
    "df_by_avgtemp_desc.head()"
   ]
  },
  {
   "cell_type": "code",
   "execution_count": 13,
   "metadata": {},
   "outputs": [
    {
     "data": {
      "text/html": [
       "<div>\n",
       "<style scoped>\n",
       "    .dataframe tbody tr th:only-of-type {\n",
       "        vertical-align: middle;\n",
       "    }\n",
       "\n",
       "    .dataframe tbody tr th {\n",
       "        vertical-align: top;\n",
       "    }\n",
       "\n",
       "    .dataframe thead th {\n",
       "        text-align: right;\n",
       "    }\n",
       "</style>\n",
       "<table border=\"1\" class=\"dataframe\">\n",
       "  <thead>\n",
       "    <tr style=\"text-align: right;\">\n",
       "      <th></th>\n",
       "      <th>city_name</th>\n",
       "      <th>hotel_name</th>\n",
       "      <th>url</th>\n",
       "      <th>score</th>\n",
       "      <th>description</th>\n",
       "      <th>lat_hotel</th>\n",
       "      <th>lon_hotel</th>\n",
       "      <th>Id_city</th>\n",
       "      <th>lat_city</th>\n",
       "      <th>lon_city</th>\n",
       "      <th>avg_day_temperature</th>\n",
       "      <th>avg_rain_probability</th>\n",
       "    </tr>\n",
       "  </thead>\n",
       "  <tbody>\n",
       "    <tr>\n",
       "      <th>0</th>\n",
       "      <td>Collioure</td>\n",
       "      <td>Hôtel Princes de Catalogne</td>\n",
       "      <td>https://www.booking.com/hotel/fr/princes-de-ca...</td>\n",
       "      <td>8.1</td>\n",
       "      <td>Situé sur une place tranquille dans la ville ...</td>\n",
       "      <td>42.525914</td>\n",
       "      <td>3.082682</td>\n",
       "      <td>28</td>\n",
       "      <td>42.52505</td>\n",
       "      <td>3.083155</td>\n",
       "      <td>10.895</td>\n",
       "      <td>0.37625</td>\n",
       "    </tr>\n",
       "    <tr>\n",
       "      <th>1</th>\n",
       "      <td>Collioure</td>\n",
       "      <td>Hôtel la Bona Casa</td>\n",
       "      <td>https://www.booking.com/hotel/fr/la-bona-casa....</td>\n",
       "      <td>8.4</td>\n",
       "      <td>L'Hôtel la Bona Casa est situé dans le centre...</td>\n",
       "      <td>42.525472</td>\n",
       "      <td>3.082699</td>\n",
       "      <td>28</td>\n",
       "      <td>42.52505</td>\n",
       "      <td>3.083155</td>\n",
       "      <td>10.895</td>\n",
       "      <td>0.37625</td>\n",
       "    </tr>\n",
       "    <tr>\n",
       "      <th>2</th>\n",
       "      <td>Collioure</td>\n",
       "      <td>La Frégate</td>\n",
       "      <td>https://www.booking.com/hotel/fr/la-fra-c-gate...</td>\n",
       "      <td>8.1</td>\n",
       "      <td>La Frégate est située au cœur du village de C...</td>\n",
       "      <td>42.526386</td>\n",
       "      <td>3.083257</td>\n",
       "      <td>28</td>\n",
       "      <td>42.52505</td>\n",
       "      <td>3.083155</td>\n",
       "      <td>10.895</td>\n",
       "      <td>0.37625</td>\n",
       "    </tr>\n",
       "    <tr>\n",
       "      <th>3</th>\n",
       "      <td>Collioure</td>\n",
       "      <td>Hôtel Triton</td>\n",
       "      <td>https://www.booking.com/hotel/fr/triton.fr.htm...</td>\n",
       "      <td>7.5</td>\n",
       "      <td>Situé sur la plage du Boutiquet, l’Hôtel Trit...</td>\n",
       "      <td>42.523716</td>\n",
       "      <td>3.087135</td>\n",
       "      <td>28</td>\n",
       "      <td>42.52505</td>\n",
       "      <td>3.083155</td>\n",
       "      <td>10.895</td>\n",
       "      <td>0.37625</td>\n",
       "    </tr>\n",
       "    <tr>\n",
       "      <th>4</th>\n",
       "      <td>Collioure</td>\n",
       "      <td>Le Mas des Citronniers</td>\n",
       "      <td>https://www.booking.com/hotel/fr/lesmasdescitr...</td>\n",
       "      <td>8.0</td>\n",
       "      <td>Vous pouvez bénéficier d'une réduction Genius...</td>\n",
       "      <td>42.525382</td>\n",
       "      <td>3.082564</td>\n",
       "      <td>28</td>\n",
       "      <td>42.52505</td>\n",
       "      <td>3.083155</td>\n",
       "      <td>10.895</td>\n",
       "      <td>0.37625</td>\n",
       "    </tr>\n",
       "  </tbody>\n",
       "</table>\n",
       "</div>"
      ],
      "text/plain": [
       "   city_name                  hotel_name  \\\n",
       "0  Collioure  Hôtel Princes de Catalogne   \n",
       "1  Collioure          Hôtel la Bona Casa   \n",
       "2  Collioure                  La Frégate   \n",
       "3  Collioure                Hôtel Triton   \n",
       "4  Collioure      Le Mas des Citronniers   \n",
       "\n",
       "                                                 url  score  \\\n",
       "0  https://www.booking.com/hotel/fr/princes-de-ca...    8.1   \n",
       "1  https://www.booking.com/hotel/fr/la-bona-casa....    8.4   \n",
       "2  https://www.booking.com/hotel/fr/la-fra-c-gate...    8.1   \n",
       "3  https://www.booking.com/hotel/fr/triton.fr.htm...    7.5   \n",
       "4  https://www.booking.com/hotel/fr/lesmasdescitr...    8.0   \n",
       "\n",
       "                                         description  lat_hotel  lon_hotel  \\\n",
       "0   Situé sur une place tranquille dans la ville ...  42.525914   3.082682   \n",
       "1   L'Hôtel la Bona Casa est situé dans le centre...  42.525472   3.082699   \n",
       "2   La Frégate est située au cœur du village de C...  42.526386   3.083257   \n",
       "3   Situé sur la plage du Boutiquet, l’Hôtel Trit...  42.523716   3.087135   \n",
       "4   Vous pouvez bénéficier d'une réduction Genius...  42.525382   3.082564   \n",
       "\n",
       "   Id_city  lat_city  lon_city  avg_day_temperature  avg_rain_probability  \n",
       "0       28  42.52505  3.083155               10.895               0.37625  \n",
       "1       28  42.52505  3.083155               10.895               0.37625  \n",
       "2       28  42.52505  3.083155               10.895               0.37625  \n",
       "3       28  42.52505  3.083155               10.895               0.37625  \n",
       "4       28  42.52505  3.083155               10.895               0.37625  "
      ]
     },
     "execution_count": 13,
     "metadata": {},
     "output_type": "execute_result"
    }
   ],
   "source": [
    "df_top10hotels_for_best_5_cities_enr = pd.merge(df_top10hotels_for_best_5_cities, df_by_avgtemp_desc, on='city_name', how='left')\n",
    "df_top10hotels_for_best_5_cities_enr.head()"
   ]
  },
  {
   "cell_type": "markdown",
   "metadata": {},
   "source": [
    "We now need to upload this DataFrame to S3... "
   ]
  },
  {
   "cell_type": "code",
   "execution_count": 15,
   "metadata": {},
   "outputs": [
    {
     "name": "stdout",
     "output_type": "stream",
     "text": [
      "Collecting Boto3\n",
      "  Using cached boto3-1.20.20-py3-none-any.whl (131 kB)\n",
      "Collecting s3transfer<0.6.0,>=0.5.0\n",
      "  Using cached s3transfer-0.5.0-py3-none-any.whl (79 kB)\n",
      "Collecting jmespath<1.0.0,>=0.7.1\n",
      "  Using cached jmespath-0.10.0-py2.py3-none-any.whl (24 kB)\n",
      "Collecting botocore<1.24.0,>=1.23.20\n",
      "  Using cached botocore-1.23.20-py3-none-any.whl (8.4 MB)\n",
      "Requirement already satisfied: urllib3<1.27,>=1.25.4 in /opt/conda/lib/python3.8/site-packages (from botocore<1.24.0,>=1.23.20->Boto3) (1.25.10)\n",
      "Requirement already satisfied: python-dateutil<3.0.0,>=2.1 in /opt/conda/lib/python3.8/site-packages (from botocore<1.24.0,>=1.23.20->Boto3) (2.8.1)\n",
      "Requirement already satisfied: six>=1.5 in /opt/conda/lib/python3.8/site-packages (from python-dateutil<3.0.0,>=2.1->botocore<1.24.0,>=1.23.20->Boto3) (1.15.0)\n",
      "Installing collected packages: jmespath, botocore, s3transfer, Boto3\n",
      "Successfully installed Boto3-1.20.20 botocore-1.23.20 jmespath-0.10.0 s3transfer-0.5.0\n"
     ]
    }
   ],
   "source": [
    "!pip install Boto3"
   ]
  },
  {
   "cell_type": "code",
   "execution_count": 14,
   "metadata": {},
   "outputs": [],
   "source": [
    "# Let's first create a Boto3 session ...\n",
    "import boto3\n",
    "\n",
    "session = boto3.Session(aws_access_key_id=\"\", \n",
    "                        aws_secret_access_key=\"\")"
   ]
  },
  {
   "cell_type": "code",
   "execution_count": 15,
   "metadata": {},
   "outputs": [],
   "source": [
    "# Now create a resource session\n",
    "s3 = session.resource(\"s3\")"
   ]
  },
  {
   "cell_type": "code",
   "execution_count": 16,
   "metadata": {},
   "outputs": [],
   "source": [
    "# Create a Bucket\n",
    "bucket = s3.create_bucket(Bucket=\"advise-hotels-france-dep-weather\")"
   ]
  },
  {
   "cell_type": "code",
   "execution_count": 17,
   "metadata": {},
   "outputs": [],
   "source": [
    "# Then put our csv file in our newly created bucket ...\n",
    "csv = df_top10hotels_for_best_5_cities_enr.to_csv()\n",
    "put_object = bucket.put_object(Key=\"top10hotels_for_best_5_cities_enr.csv\", Body=csv)"
   ]
  },
  {
   "cell_type": "markdown",
   "metadata": {},
   "source": [
    "Let's now create a SQL Database where we should be able to get the same cleaned data from S3 ..."
   ]
  },
  {
   "cell_type": "code",
   "execution_count": 16,
   "metadata": {},
   "outputs": [],
   "source": [
    "!pip install psycopg2-binary -q"
   ]
  },
  {
   "cell_type": "code",
   "execution_count": 15,
   "metadata": {},
   "outputs": [],
   "source": [
    "# Import sqlalchemy\n",
    "from sqlalchemy import create_engine, text\n",
    "\n",
    "#USERNAME = \"postgres\"\n",
    "#PASSWORD = \"password\"\n",
    "#HOSTNAME = \"database-1.c332j0u963dt.eu-west-3.rds.amazonaws.com\"\n",
    "#DBNAME = \"postgres\" #--> If you are using PostgreSQL\n",
    "#PORT = \"5432\"\n",
    "\n",
    "USERNAME = \"\"\n",
    "PASSWORD = \"\"\n",
    "HOSTNAME = \"\"\n",
    "DBNAME = \"postgres\" #--> If you are using PostgreSQL\n",
    "PORT = \"5432\"\n",
    "\n",
    "# Create engine \n",
    "engine = create_engine(f\"postgresql+psycopg2://{USERNAME}:{PASSWORD}@{HOSTNAME}:{PORT}/{DBNAME}\", echo=True)"
   ]
  },
  {
   "cell_type": "code",
   "execution_count": 16,
   "metadata": {},
   "outputs": [
    {
     "name": "stdout",
     "output_type": "stream",
     "text": [
      "2021-12-06 22:39:43,566 INFO sqlalchemy.engine.base.Engine select version()\n",
      "2021-12-06 22:39:43,567 INFO sqlalchemy.engine.base.Engine {}\n",
      "2021-12-06 22:39:43,581 INFO sqlalchemy.engine.base.Engine select current_schema()\n",
      "2021-12-06 22:39:43,582 INFO sqlalchemy.engine.base.Engine {}\n",
      "2021-12-06 22:39:43,596 INFO sqlalchemy.engine.base.Engine SELECT CAST('test plain returns' AS VARCHAR(60)) AS anon_1\n",
      "2021-12-06 22:39:43,598 INFO sqlalchemy.engine.base.Engine {}\n",
      "2021-12-06 22:39:43,606 INFO sqlalchemy.engine.base.Engine SELECT CAST('test unicode returns' AS VARCHAR(60)) AS anon_1\n",
      "2021-12-06 22:39:43,607 INFO sqlalchemy.engine.base.Engine {}\n",
      "2021-12-06 22:39:43,615 INFO sqlalchemy.engine.base.Engine show standard_conforming_strings\n",
      "2021-12-06 22:39:43,616 INFO sqlalchemy.engine.base.Engine {}\n",
      "2021-12-06 22:39:43,630 INFO sqlalchemy.engine.base.Engine select relname from pg_class c join pg_namespace n on n.oid=c.relnamespace where pg_catalog.pg_table_is_visible(c.oid) and relname=%(name)s\n",
      "2021-12-06 22:39:43,632 INFO sqlalchemy.engine.base.Engine {'name': 'hotels'}\n",
      "2021-12-06 22:39:43,653 INFO sqlalchemy.engine.base.Engine \n",
      "CREATE TABLE hotels (\n",
      "\tindex BIGINT, \n",
      "\tcity_name TEXT, \n",
      "\thotel_name TEXT, \n",
      "\turl TEXT, \n",
      "\tscore FLOAT(53), \n",
      "\tdescription TEXT, \n",
      "\tlat_hotel FLOAT(53), \n",
      "\tlon_hotel FLOAT(53)\n",
      ")\n",
      "\n",
      "\n",
      "2021-12-06 22:39:43,655 INFO sqlalchemy.engine.base.Engine {}\n",
      "2021-12-06 22:39:43,676 INFO sqlalchemy.engine.base.Engine COMMIT\n",
      "2021-12-06 22:39:43,685 INFO sqlalchemy.engine.base.Engine CREATE INDEX ix_hotels_index ON hotels (index)\n",
      "2021-12-06 22:39:43,686 INFO sqlalchemy.engine.base.Engine {}\n",
      "2021-12-06 22:39:43,702 INFO sqlalchemy.engine.base.Engine COMMIT\n",
      "2021-12-06 22:39:43,713 INFO sqlalchemy.engine.base.Engine BEGIN (implicit)\n",
      "2021-12-06 22:39:43,716 INFO sqlalchemy.engine.base.Engine INSERT INTO hotels (index, city_name, hotel_name, url, score, description, lat_hotel, lon_hotel) VALUES (%(index)s, %(city_name)s, %(hotel_name)s, %(url)s, %(score)s, %(description)s, %(lat_hotel)s, %(lon_hotel)s)\n",
      "2021-12-06 22:39:43,718 INFO sqlalchemy.engine.base.Engine ({'index': 0, 'city_name': 'Collioure', 'hotel_name': 'Hôtel Princes de Catalogne', 'url': 'https://www.booking.com/hotel/fr/princes-de-catalogne.fr.html?sid=8989e4ecc2735b74c25a8704bd49cbf0', 'score': 8.1, 'description': \" Situé sur une place tranquille dans la ville pittoresque de Collioure, l'Hôtel Princes de Catalogne se trouve à 400 mètres de la plage. Il a été rén ... (521 characters truncated) ... un nombre de places limité, accessible sous réserve de disponibilité. Un parking public payant est également accessible en face de l'établissement.  \", 'lat_hotel': 42.52591431, 'lon_hotel': 3.0826816000000004}, {'index': 1, 'city_name': 'Collioure', 'hotel_name': 'Hôtel la Bona Casa', 'url': 'https://www.booking.com/hotel/fr/la-bona-casa.fr.html?sid=8989e4ecc2735b74c25a8704bd49cbf0', 'score': 8.4, 'description': \" L'Hôtel la Bona Casa est situé dans le centre historique de Collioure, à seulement 300 mètres du château royal et de la plage. Il propose une connex ... (626 characters truncated) ... km d'Argelès-sur-Mer. L'établissement est à 30 minutes de route du centre de Perpignan et de la frontière espagnole, également accessible en train.  \", 'lat_hotel': 42.52547153, 'lon_hotel': 3.0826987}, {'index': 2, 'city_name': 'Collioure', 'hotel_name': 'La Frégate', 'url': 'https://www.booking.com/hotel/fr/la-fra-c-gate-collioure.fr.html?sid=8989e4ecc2735b74c25a8704bd49cbf0', 'score': 8.1, 'description': \" La Frégate est située au cœur du village de Collioure. L’établissement se trouve à moins de 200 mètres du château royal de Collioure. Desservies cha ... (522 characters truncated) ... la terrasse ombragée. La frontière espagnole est accessible à 60 km.. Enfin, l'aéroport de Perpignan-Rivesaltes est implanté à 40 minutes de route.  \", 'lat_hotel': 42.52638625, 'lon_hotel': 3.08325659}, {'index': 3, 'city_name': 'Collioure', 'hotel_name': 'Hôtel Triton', 'url': 'https://www.booking.com/hotel/fr/triton.fr.html?sid=8989e4ecc2735b74c25a8704bd49cbf0', 'score': 7.5, 'description': ' Situé sur la plage du Boutiquet, l’Hôtel Triton propose des chambres climatisées donnant sur la baie de Collioure ou sur les Pyrénées. Une connexion ... (684 characters truncated) ... tière espagnole et à 30 km de Perpignan. Un parking public est à votre disposition en face de l’établissement, moyennant des frais supplémentaires.  ', 'lat_hotel': 42.52371617, 'lon_hotel': 3.08713473}, {'index': 4, 'city_name': 'Collioure', 'hotel_name': 'Le Mas des Citronniers', 'url': 'https://www.booking.com/hotel/fr/lesmasdescitronniers.fr.html?sid=8989e4ecc2735b74c25a8704bd49cbf0', 'score': 8.0, 'description': \" Vous pouvez bénéficier d'une réduction Genius dans l'établissement Le Mas des Citronniers\\xa0! Connectez-vous pour économiser. Situé dans le centre  ... (805 characters truncated) ...  disposerez de journaux gratuits. La gare de Collioure est implantée à 550 mètres de l'établissement, tandis que le château royal est à 300 mètres.  \", 'lat_hotel': 42.52538159, 'lon_hotel': 3.08256391}, {'index': 5, 'city_name': 'Collioure', 'hotel_name': 'Le Madeloc Hôtel & Spa', 'url': 'https://www.booking.com/hotel/fr/madeloc.fr.html?sid=8989e4ecc2735b74c25a8704bd49cbf0', 'score': 8.8, 'description': \" Vous pouvez bénéficier d'une réduction Genius dans l'établissement Le Madeloc Hôtel & Spa\\xa0! Connectez-vous pour économiser. Situé à 500 mètres du ... (1121 characters truncated) ... elès-sur-Mer et à 25,5 km de la frontière espagnole. Sur demande et moyennant des frais supplémentaires, un parking privé est disponible sur place.  \", 'lat_hotel': 42.52876467, 'lon_hotel': 3.07865426}, {'index': 6, 'city_name': 'Collioure', 'hotel_name': 'Hôtel des Templiers', 'url': 'https://www.booking.com/hotel/fr/ha-tel-des-templiers.fr.html?sid=8989e4ecc2735b74c25a8704bd49cbf0', 'score': 8.1, 'description': \" Comportant 2 000 œuvres d'art originales de peintres du XXe siècle y ayant séjourné, l'Hôtel des Templiers est situé à 200 mètres du château royal d ... (504 characters truncated) ... e du Mas Larrieu est accessible en 20 minutes en voiture. L'hôtel se trouve dans une rue piétonne et un parking public est disponible à 400 mètres.  \", 'lat_hotel': 42.52666546, 'lon_hotel': 3.08394089}, {'index': 7, 'city_name': 'Collioure', 'hotel_name': 'Hotel Méditerranée', 'url': 'https://www.booking.com/hotel/fr/mediterranee-collioure.fr.html?sid=8989e4ecc2735b74c25a8704bd49cbf0', 'score': 7.9, 'description': \" Doté d'un jardin de style méditerranéen et d'une terrasse, l'Hotel Méditerranée se trouve à Collioure, à 5 minutes de marche de la plage la plus pro ... (497 characters truncated) ... bagagerie. Argèles-sur-Mer se situe à 7,3 km et la frontière espagnole est à 26 km. L'aéroport de Perpignan-Rivesaltes est le plus proche, à 38 km.  \", 'lat_hotel': 42.52708254, 'lon_hotel': 3.08026291}  ... displaying 10 of 50 total bound parameter sets ...  {'index': 48, 'city_name': 'Saintes-Maries-de-la-Mer', 'hotel_name': 'Hôtel Casa Marina', 'url': 'https://www.booking.com/hotel/fr/casa-marina-saintes-maries-de-la-mer.fr.html?sid=63d9fc29b5734b74ef247a2e4969f8a8', 'score': 8.9, 'description': \" Situé aux Saintes-Maries-de-la-Mer, l'Hôtel Casa Marina propose un hébergement en bord de mer, à quelques pas de la plage d'Amphora. Il possède un r ... (619 characters truncated) ... L'église des Saintes-Maries se trouve à 300 mètres de l'Hôtel Casa Marina. L'aéroport de Nîmes-Alès-Camargue-Cévennes, le plus proche, est à 34 km.  \", 'lat_hotel': 43.451133, 'lon_hotel': 4.430953}, {'index': 49, 'city_name': 'Saintes-Maries-de-la-Mer', 'hotel_name': 'Hôtel restaurant le delta', 'url': 'https://www.booking.com/hotel/fr/hacienda-des-enfants-terribles.fr.html?sid=63d9fc29b5734b74ef247a2e4969f8a8', 'score': 6.4, 'description': \" Doté d'un bar, l'Hôtel restaurant le delta est situé aux Saintes-Maries-de-la-Mer, en Provence-Alpes-Côte d'Azur, à 300 mètres de la plage d'Amphora ... (423 characters truncated) ... e. L'Hôtel restaurant le delta possède une terrasse bien exposée. L'aéroport de Nîmes-Alès-Camargue-Cévennes, le plus proche, est implanté à 34 km.  \", 'lat_hotel': 43.452178, 'lon_hotel': 4.428116})\n",
      "2021-12-06 22:39:44,019 INFO sqlalchemy.engine.base.Engine COMMIT\n"
     ]
    }
   ],
   "source": [
    "df_top10hotels_for_best_5_cities.to_sql(\n",
    "    \"hotels\",\n",
    "    engine#,\n",
    "    #if_exists='replace'\n",
    ")"
   ]
  },
  {
   "cell_type": "code",
   "execution_count": 17,
   "metadata": {},
   "outputs": [
    {
     "name": "stdout",
     "output_type": "stream",
     "text": [
      "2021-12-06 22:39:51,383 INFO sqlalchemy.engine.base.Engine select relname from pg_class c join pg_namespace n on n.oid=c.relnamespace where pg_catalog.pg_table_is_visible(c.oid) and relname=%(name)s\n",
      "2021-12-06 22:39:51,385 INFO sqlalchemy.engine.base.Engine {'name': 'cities'}\n",
      "2021-12-06 22:39:51,407 INFO sqlalchemy.engine.base.Engine \n",
      "CREATE TABLE cities (\n",
      "\tindex BIGINT, \n",
      "\t\"Id_city\" BIGINT, \n",
      "\tcity_name TEXT, \n",
      "\tlat_city FLOAT(53), \n",
      "\tlon_city FLOAT(53), \n",
      "\tavg_day_temperature FLOAT(53), \n",
      "\tavg_rain_probability FLOAT(53)\n",
      ")\n",
      "\n",
      "\n",
      "2021-12-06 22:39:51,408 INFO sqlalchemy.engine.base.Engine {}\n",
      "2021-12-06 22:39:51,425 INFO sqlalchemy.engine.base.Engine COMMIT\n",
      "2021-12-06 22:39:51,434 INFO sqlalchemy.engine.base.Engine CREATE INDEX ix_cities_index ON cities (index)\n",
      "2021-12-06 22:39:51,435 INFO sqlalchemy.engine.base.Engine {}\n",
      "2021-12-06 22:39:51,451 INFO sqlalchemy.engine.base.Engine COMMIT\n",
      "2021-12-06 22:39:51,461 INFO sqlalchemy.engine.base.Engine BEGIN (implicit)\n",
      "2021-12-06 22:39:51,464 INFO sqlalchemy.engine.base.Engine INSERT INTO cities (index, \"Id_city\", city_name, lat_city, lon_city, avg_day_temperature, avg_rain_probability) VALUES (%(index)s, %(Id_city)s, %(city_name)s, %(lat_city)s, %(lon_city)s, %(avg_day_temperature)s, %(avg_rain_probability)s)\n",
      "2021-12-06 22:39:51,466 INFO sqlalchemy.engine.base.Engine ({'index': 0, 'Id_city': 28, 'city_name': 'Collioure', 'lat_city': 42.52505, 'lon_city': 3.0831554, 'avg_day_temperature': 10.895, 'avg_rain_probability': 0.37625}, {'index': 1, 'Id_city': 34, 'city_name': 'Bayonne', 'lat_city': 43.49333789999999, 'lon_city': -1.475099, 'avg_day_temperature': 9.80375, 'avg_rain_probability': 0.85875}, {'index': 2, 'Id_city': 33, 'city_name': 'Biarritz', 'lat_city': 43.47114375, 'lon_city': -1.5527265906663141, 'avg_day_temperature': 9.58875, 'avg_rain_probability': 0.86875}, {'index': 3, 'Id_city': 26, 'city_name': 'Aigues-Mortes', 'lat_city': 43.565822499999996, 'lon_city': 4.1912837, 'avg_day_temperature': 9.24875, 'avg_rain_probability': 0.325}, {'index': 4, 'Id_city': 27, 'city_name': 'Saintes-Maries-de-la-Mer', 'lat_city': 43.4522771, 'lon_city': 4.4287171999999995, 'avg_day_temperature': 9.17125, 'avg_rain_probability': 0.3025}, {'index': 5, 'Id_city': 20, 'city_name': 'Cassis', 'lat_city': 43.2140359, 'lon_city': 5.5396317999999996, 'avg_day_temperature': 8.94875, 'avg_rain_probability': 0.30625}, {'index': 6, 'Id_city': 19, 'city_name': 'Bormes-les-Mimosas', 'lat_city': 43.157217200000005, 'lon_city': 6.329253867921362, 'avg_day_temperature': 8.910000000000002, 'avg_rain_probability': 0.31875}, {'index': 7, 'Id_city': 2, 'city_name': 'Saint-Malo', 'lat_city': 48.649518, 'lon_city': -2.0260409, 'avg_day_temperature': 8.787500000000001, 'avg_rain_probability': 0.7500000000000001}  ... displaying 10 of 35 total bound parameter sets ...  {'index': 33, 'Id_city': 30, 'city_name': 'Ariège', 'lat_city': 42.9455368, 'lon_city': 1.4065544156065486, 'avg_day_temperature': 0.85375, 'avg_rain_probability': 0.8150000000000001}, {'index': 34, 'Id_city': 10, 'city_name': 'Château du Haut-Kœnigsbourg', 'lat_city': 48.249489800000006, 'lon_city': 7.34429620253195, 'avg_day_temperature': 0.5050000000000001, 'avg_rain_probability': 0.76})\n",
      "2021-12-06 22:39:51,677 INFO sqlalchemy.engine.base.Engine COMMIT\n"
     ]
    }
   ],
   "source": [
    "df_by_avgtemp_desc.to_sql(\n",
    "    \"cities\",\n",
    "    engine\n",
    ")"
   ]
  },
  {
   "cell_type": "code",
   "execution_count": 18,
   "metadata": {},
   "outputs": [],
   "source": [
    "# Connect to the db\n",
    "conn = engine.connect()"
   ]
  },
  {
   "cell_type": "code",
   "execution_count": 19,
   "metadata": {},
   "outputs": [
    {
     "name": "stdout",
     "output_type": "stream",
     "text": [
      "2021-12-06 22:40:02,578 INFO sqlalchemy.engine.base.Engine SELECT AVG(avg_day_temperature), MIN(avg_day_temperature), MAX(avg_day_temperature) FROM cities\n",
      "2021-12-06 22:40:02,580 INFO sqlalchemy.engine.base.Engine {}\n"
     ]
    },
    {
     "data": {
      "text/plain": [
       "[(6.254428571428569, 0.5050000000000001, 10.895)]"
      ]
     },
     "execution_count": 19,
     "metadata": {},
     "output_type": "execute_result"
    }
   ],
   "source": [
    "# Let's query it \n",
    "stmt = text(\"SELECT AVG(avg_day_temperature), MIN(avg_day_temperature), MAX(avg_day_temperature) FROM cities\")\n",
    "result = conn.execute(stmt)\n",
    "result.fetchall()"
   ]
  },
  {
   "cell_type": "code",
   "execution_count": 20,
   "metadata": {},
   "outputs": [
    {
     "name": "stdout",
     "output_type": "stream",
     "text": [
      "2021-12-06 22:40:06,336 INFO sqlalchemy.engine.base.Engine SELECT avg_day_temperature, avg_rain_probability FROM cities ORDER BY avg_rain_probability\n",
      "2021-12-06 22:40:06,338 INFO sqlalchemy.engine.base.Engine {}\n"
     ]
    },
    {
     "data": {
      "text/plain": [
       "[(3.00875, 0.29250000000000004),\n",
       " (9.17125, 0.3025),\n",
       " (8.94875, 0.30625),\n",
       " (6.4662500000000005, 0.31125),\n",
       " (8.695, 0.31375),\n",
       " (8.910000000000002, 0.31875),\n",
       " (9.24875, 0.325),\n",
       " (6.855, 0.365),\n",
       " (8.22125, 0.37375),\n",
       " (10.895, 0.37625),\n",
       " (7.099999999999999, 0.39),\n",
       " (5.69375, 0.60625),\n",
       " (5.2250000000000005, 0.66125),\n",
       " (5.11875, 0.67375),\n",
       " (7.482499999999999, 0.67875),\n",
       " (7.18, 0.6925),\n",
       " (3.87125, 0.7),\n",
       " (8.58, 0.715),\n",
       " (3.3175000000000003, 0.73375),\n",
       " (7.87375, 0.7362499999999998),\n",
       " (4.65875, 0.73875),\n",
       " (6.260000000000002, 0.73875),\n",
       " (8.787500000000001, 0.7500000000000001),\n",
       " (0.5050000000000001, 0.76),\n",
       " (7.494999999999999, 0.7625),\n",
       " (2.619999999999999, 0.7875),\n",
       " (3.3312499999999994, 0.7937500000000001),\n",
       " (3.355, 0.805),\n",
       " (0.85375, 0.8150000000000001),\n",
       " (3.026250000000001, 0.8200000000000001),\n",
       " (1.7937499999999995, 0.83875),\n",
       " (7.583750000000001, 0.8475),\n",
       " (9.80375, 0.85875),\n",
       " (9.58875, 0.86875),\n",
       " (7.380000000000001, 0.8725)]"
      ]
     },
     "execution_count": 20,
     "metadata": {},
     "output_type": "execute_result"
    }
   ],
   "source": [
    "stmt = text(\"SELECT avg_day_temperature, avg_rain_probability FROM cities ORDER BY avg_rain_probability\")\n",
    "result = conn.execute(stmt)\n",
    "result.fetchall()"
   ]
  },
  {
   "cell_type": "code",
   "execution_count": 22,
   "metadata": {},
   "outputs": [
    {
     "name": "stdout",
     "output_type": "stream",
     "text": [
      "2021-12-06 22:41:21,418 INFO sqlalchemy.engine.base.Engine SELECT hotel_name, score, city_name from hotels order by score DESC limit 5\n",
      "2021-12-06 22:41:21,422 INFO sqlalchemy.engine.base.Engine {}\n"
     ]
    },
    {
     "data": {
      "text/plain": [
       "[('Boutique Hôtel des Remparts & Spa', 9.6, 'Aigues-Mortes'),\n",
       " ('Le Relais Des Trois Mas', 9.0, 'Collioure'),\n",
       " ('Hôtel-Restaurant \"Chez Carrière\"', 8.9, 'Aigues-Mortes'),\n",
       " ('Maison des Croisades', 8.9, 'Aigues-Mortes'),\n",
       " ('Hôtel Casa Marina', 8.9, 'Saintes-Maries-de-la-Mer')]"
      ]
     },
     "execution_count": 22,
     "metadata": {},
     "output_type": "execute_result"
    }
   ],
   "source": [
    "stmt = text(\"SELECT hotel_name, score, city_name from hotels order by score DESC limit 5\")\n",
    "result = conn.execute(stmt)\n",
    "result.fetchall()"
   ]
  },
  {
   "cell_type": "code",
   "execution_count": 23,
   "metadata": {},
   "outputs": [
    {
     "name": "stdout",
     "output_type": "stream",
     "text": [
      "2021-12-06 22:41:27,109 INFO sqlalchemy.engine.base.Engine SELECT MAX(score), MIN(score), AVG(score) FROM hotels\n",
      "2021-12-06 22:41:27,111 INFO sqlalchemy.engine.base.Engine {}\n"
     ]
    },
    {
     "data": {
      "text/plain": [
       "[(9.6, 5.1, 7.967999999999997)]"
      ]
     },
     "execution_count": 23,
     "metadata": {},
     "output_type": "execute_result"
    }
   ],
   "source": [
    "stmt = text(\"SELECT MAX(score), MIN(score), AVG(score) FROM hotels\")\n",
    "result = conn.execute(stmt)\n",
    "result.fetchall()"
   ]
  },
  {
   "cell_type": "code",
   "execution_count": 24,
   "metadata": {},
   "outputs": [
    {
     "name": "stdout",
     "output_type": "stream",
     "text": [
      "2021-12-06 22:41:37,582 INFO sqlalchemy.engine.base.Engine SELECT AVG(score) as avg_score, city_name FROM hotels  GROUP BY city_name order by avg_score DESC\n",
      "2021-12-06 22:41:37,583 INFO sqlalchemy.engine.base.Engine {}\n"
     ]
    },
    {
     "data": {
      "text/plain": [
       "[(8.349999999999998, 'Aigues-Mortes'),\n",
       " (8.260000000000002, 'Collioure'),\n",
       " (8.080000000000002, 'Saintes-Maries-de-la-Mer'),\n",
       " (7.630000000000001, 'Biarritz'),\n",
       " (7.5200000000000005, 'Bayonne')]"
      ]
     },
     "execution_count": 24,
     "metadata": {},
     "output_type": "execute_result"
    }
   ],
   "source": [
    "stmt = text(\"SELECT AVG(score) as avg_score, city_name FROM hotels  GROUP BY city_name order by avg_score DESC\")\n",
    "result = conn.execute(stmt)\n",
    "result.fetchall()"
   ]
  },
  {
   "cell_type": "code",
   "execution_count": 26,
   "metadata": {},
   "outputs": [
    {
     "name": "stdout",
     "output_type": "stream",
     "text": [
      "2021-12-06 22:43:56,009 INFO sqlalchemy.engine.base.Engine SELECT hotel_name, score, avg_day_temperature, avg_rain_probability FROM hotels JOIN cities on cities.city_name=hotels.city_name ORDER BY score\n",
      "2021-12-06 22:43:56,012 INFO sqlalchemy.engine.base.Engine {}\n"
     ]
    },
    {
     "data": {
      "text/plain": [
       "[('Premiere Classe Biarritz', 5.1, 9.58875, 0.86875),\n",
       " ('Premiere Classe Bayonne', 6.0, 9.80375, 0.85875),\n",
       " ('Hôtel restaurant le delta', 6.4, 9.17125, 0.3025),\n",
       " ('Campanile Biarritz', 6.6, 9.58875, 0.86875),\n",
       " ('Campanile Bayonne', 6.7, 9.80375, 0.85875),\n",
       " ('Hotel Restaurant Les Genets', 6.9, 9.80375, 0.85875),\n",
       " ('Noemys Aigues-Mortes - ex Mona Lisa Royal Hôtel', 7.0, 9.24875, 0.325),\n",
       " ('B&B Hôtel Bayonne', 7.3, 9.80375, 0.85875),\n",
       " ('Hôtel Le Médiéval', 7.4, 9.24875, 0.325),\n",
       " ('Le Castelet', 7.4, 9.17125, 0.3025),\n",
       " ('Radisson Blu Hotel Biarritz', 7.5, 9.58875, 0.86875),\n",
       " ('Hôtel Triton', 7.5, 10.895, 0.37625),\n",
       " ('Grand Tonic Hotel Biarritz', 7.7, 9.58875, 0.86875),\n",
       " ('ibis budget Bayonne', 7.7, 9.80375, 0.85875),\n",
       " ('Sure Hotel by Best Western Biarritz Aeroport', 7.7, 9.58875, 0.86875),\n",
       " ('Thalacap Camargue', 7.7, 9.17125, 0.3025),\n",
       " ('Le Mas Des Sables', 7.8, 9.24875, 0.325),\n",
       " ('Hotel Méditerranée', 7.9, 10.895, 0.37625),\n",
       " ('ibis Bayonne Centre', 7.9, 9.80375, 0.85875),\n",
       " ('Hôtel Le Bayonne', 7.9, 9.80375, 0.85875),\n",
       " ('Le Mas des Citronniers', 8.0, 10.895, 0.37625),\n",
       " ('Hotel Cote Basque', 8.0, 9.80375, 0.85875),\n",
       " ('Hotel Les Palmiers En Camargue', 8.1, 9.17125, 0.3025),\n",
       " ('Hôtel Princes de Catalogne', 8.1, 10.895, 0.37625),\n",
       " ('La Frégate', 8.1, 10.895, 0.37625),\n",
       " ('Hôtel des Templiers', 8.1, 10.895, 0.37625),\n",
       " ('Mercure Président Biarritz Plage', 8.2, 9.58875, 0.86875),\n",
       " ('Vila De La Mar & Spa', 8.2, 9.17125, 0.3025),\n",
       " ('ibis Styles Bayonne', 8.2, 9.80375, 0.85875),\n",
       " ('Best Western Kemaris', 8.3, 9.58875, 0.86875),\n",
       " ('Best Western Plus Hôtel Littéraire Jules Verne', 8.3, 9.58875, 0.86875),\n",
       " ('Hotel Des 4 Vents', 8.3, 9.24875, 0.325),\n",
       " ('Hôtel la Bona Casa', 8.4, 10.895, 0.37625),\n",
       " ('Hôtel Saint Louis', 8.4, 9.24875, 0.325),\n",
       " ('Hotel Le Bleu Marine', 8.4, 9.17125, 0.3025),\n",
       " ('Abrivado', 8.4, 9.17125, 0.3025),\n",
       " ('Hôtel Cosmopolitain', 8.4, 9.58875, 0.86875),\n",
       " ('Hôtel Le Windsor Biarritz', 8.5, 9.58875, 0.86875),\n",
       " ('Hotel Canal Aigues Mortes', 8.6, 9.24875, 0.325),\n",
       " ('Hotel Les Templiers', 8.6, 9.24875, 0.325),\n",
       " ('Okko Hotels Bayonne Centre', 8.6, 9.80375, 0.85875),\n",
       " ('Le Dauphin Bleu', 8.6, 9.17125, 0.3025),\n",
       " ('Hôtel La Casa Pairal', 8.7, 10.895, 0.37625),\n",
       " ('Hôtel Les Arcades', 8.7, 9.17125, 0.3025),\n",
       " ('Le Madeloc Hôtel & Spa', 8.8, 10.895, 0.37625),\n",
       " ('Maison des Croisades', 8.9, 9.24875, 0.325),\n",
       " ('Hôtel-Restaurant \"Chez Carrière\"', 8.9, 9.24875, 0.325),\n",
       " ('Hôtel Casa Marina', 8.9, 9.17125, 0.3025),\n",
       " ('Le Relais Des Trois Mas', 9.0, 10.895, 0.37625),\n",
       " ('Boutique Hôtel des Remparts & Spa', 9.6, 9.24875, 0.325)]"
      ]
     },
     "execution_count": 26,
     "metadata": {},
     "output_type": "execute_result"
    }
   ],
   "source": [
    "stmt = text(\"SELECT hotel_name, score, avg_day_temperature, avg_rain_probability FROM hotels JOIN cities on cities.city_name=hotels.city_name ORDER BY score\")\n",
    "result = conn.execute(stmt)\n",
    "result.fetchall()"
   ]
  },
  {
   "cell_type": "code",
   "execution_count": null,
   "metadata": {},
   "outputs": [],
   "source": []
  }
 ],
 "metadata": {
  "kernelspec": {
   "display_name": "Python 3",
   "language": "python",
   "name": "python3"
  },
  "language_info": {
   "codemirror_mode": {
    "name": "ipython",
    "version": 3
   },
   "file_extension": ".py",
   "mimetype": "text/x-python",
   "name": "python",
   "nbconvert_exporter": "python",
   "pygments_lexer": "ipython3",
   "version": "3.8.6"
  }
 },
 "nbformat": 4,
 "nbformat_minor": 4
}
